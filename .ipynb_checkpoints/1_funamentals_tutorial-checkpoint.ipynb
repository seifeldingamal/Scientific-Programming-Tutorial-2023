{
 "cells": [
  {
   "cell_type": "markdown",
   "id": "daff1cea-bb7d-41c4-895e-a43796c9a4e0",
   "metadata": {
    "tags": []
   },
   "source": [
    "# Fundamentals of Scientific Programming: Python and Jupyter Tutorial"
   ]
  },
  {
   "cell_type": "markdown",
   "id": "93dbd6f0-9830-40e2-8c43-e171bb51ada8",
   "metadata": {
    "id": "0vJLt3JRL9eR"
   },
   "source": [
    "This tutorial is written by [Seifeldin Abouelella](https://github.com/seifeldingamal) for EE_2.06."
   ]
  },
  {
   "cell_type": "markdown",
   "id": "bba3e920-a751-4670-a9aa-08492990f7cb",
   "metadata": {
    "tags": []
   },
   "source": [
    "## Introduction"
   ]
  },
  {
   "cell_type": "markdown",
   "id": "c5b2eb1b-d8dc-4ed9-90f7-972b31cfb055",
   "metadata": {},
   "source": [
    "Python is a popular programming language. It is used for many things including:\n",
    "- Software Development.\n",
    "- Mathematics and Scientific-Research.\n",
    "- Artificial Inteligence and Machine-Learning."
   ]
  },
  {
   "cell_type": "markdown",
   "id": "e51d7090-c755-4f60-8673-27c72539b7c0",
   "metadata": {
    "tags": []
   },
   "source": [
    "## What is a Jupyter Notebook?"
   ]
  },
  {
   "cell_type": "markdown",
   "id": "b2d59814-5926-414a-84ce-18f4793112d9",
   "metadata": {},
   "source": [
    "A Jupyter notebook is made up of a number of cells.<br>Each cell can contain Python code.<br>There are two main types of cells: `Code` cells and `Markdown` cells.<br>This particular cell is a `Markdown` cell.<br>You can execute a particular cell by double clicking on it (the highlight color will switch from blue to green) and pressing `Shift + Enter`.<br>When you do so, if the cell is a `Code` cell, the code in the cell will run, and the output of the cell will be displayed beneath the cell, and if the cell is a `Markdown` cell, the markdown text will get rendered beneath the cell.\n",
    "\n",
    "Go ahead and try executing this cell."
   ]
  },
  {
   "cell_type": "markdown",
   "id": "a9048cdd-4631-4a80-bc7a-78816458cae1",
   "metadata": {},
   "source": [
    "The cell below is a `Code` cell. Go ahead and click it, then execute it."
   ]
  },
  {
   "cell_type": "code",
   "execution_count": 1,
   "id": "c2d1f00b-161a-4768-8b65-ee892da1e844",
   "metadata": {},
   "outputs": [
    {
     "name": "stdout",
     "output_type": "stream",
     "text": [
      "1\n"
     ]
    }
   ],
   "source": [
    "# x here is a data container which is called a variable\n",
    "x = 1 \n",
    "print(x)"
   ]
  },
  {
   "cell_type": "markdown",
   "id": "c01f541f-9201-4ee6-8b46-fb3a583cc2c8",
   "metadata": {},
   "source": [
    "Global variables are shared between cells. Try executing the cell below:"
   ]
  },
  {
   "cell_type": "code",
   "execution_count": 2,
   "id": "c76e479a-c316-465a-a0fd-091f83c0bad4",
   "metadata": {},
   "outputs": [
    {
     "name": "stdout",
     "output_type": "stream",
     "text": [
      "2\n"
     ]
    }
   ],
   "source": [
    "y = 2 * x\n",
    "print(y)"
   ]
  },
  {
   "cell_type": "markdown",
   "id": "2d8c1663-3527-4dd6-80a4-8374eba173b8",
   "metadata": {
    "tags": []
   },
   "source": [
    "### Notebook Shortcuts Cheatsheet\n",
    "\n",
    "There are a few keyboard shortcuts you should be aware of to make your notebook experience more pleasant.<br>To escape editing of a cell, press `Esc`.<br>Escaping a `Markdown` cell won't render it, so make sure to execute it if you wish to render the markdown.<br>Notice how the highlight color switches back to blue when you have escaped a cell.\n",
    "\n",
    "You can navigate between cells by pressing your arrow keys.<br>Executing a cell automatically shifts the cell cursor down 1 cell if one exists, or creates a new cell below the current one if none exist.\n",
    "\n",
    "* To place a new cell below the current one, press `B`.\n",
    "* To place a new cell above the current one, press `A`.\n",
    "* To delete a cell, press `D` twice.\n",
    "* To convert a cell to `Markdown` press `M`. Note you have to be in `Esc` mode.\n",
    "* To convert it back to `Code` press `Y`. Note you have to be in `Esc` mode.\n",
    "\n",
    "Get familiar with these keyboard shortcuts, they really help!\n",
    "\n",
    "You can restart a notebook and clear all cells by clicking `Kernel -> Restart & Clear Output`.<br>If you don't want to clear cell outputs, just hit `Kernel -> Restart`.\n",
    "\n",
    "By convention, Jupyter notebooks are expected to be run from top to bottom.<br>Failing to execute some cells or executing cells out of order can result in errors.<br>After restarting the notebook, try running the `y = 2 * x` cell 2 cells above and observe what happens.\n",
    "\n",
    "After you have modified a Jupyter notebook for one of the assignments by modifying or executing some of its cells, remember to save your changes!<br>You can save with the `Command/Control + S` shortcut or by clicking `File -> Save and Checkpoint`.\n",
    "\n",
    "This has only been a brief introduction to Jupyter Notebooks, but it should be enough to get you up and running on the assignments for this course."
   ]
  },
  {
   "cell_type": "markdown",
   "id": "bf062b3a-be89-4454-a08b-67b48fa3fa4e",
   "metadata": {
    "id": "nxvEkGXPM3Xh"
   },
   "source": [
    "## A Note on the Python Version we would be using\n",
    "\n",
    "We'll be using Python 3.7 or higher for this course. You can check your Python version at the command line by running `python --version`."
   ]
  },
  {
   "cell_type": "code",
   "execution_count": 3,
   "id": "9ecf52f7-2e8d-4228-9f55-c67e523ab3f3",
   "metadata": {
    "colab": {
     "base_uri": "https://localhost:8080/",
     "height": 34
    },
    "id": "1L4Am0QATgOc",
    "outputId": "bb5ee3ac-8683-44ab-e599-a2077510f327",
    "tags": []
   },
   "outputs": [
    {
     "name": "stdout",
     "output_type": "stream",
     "text": [
      "Python 3.10.9\n"
     ]
    }
   ],
   "source": [
    "!python --version"
   ]
  },
  {
   "cell_type": "markdown",
   "id": "093bb246-e3ca-4cc2-a391-7fcd27d52c1e",
   "metadata": {
    "tags": []
   },
   "source": [
    "## Programming Introduction using Python"
   ]
  },
  {
   "cell_type": "markdown",
   "id": "f2cb16ff-4702-4fde-abed-59f6235bcb2f",
   "metadata": {},
   "source": [
    "Regardless of the programming language, there exists basic concepts across all programming languages.\n",
    "Examples of these concepts are:\n",
    "1. **Variable.**\n",
    "2. **Data Types and Structures.**\n",
    "3. **Operators.**\n",
    "4. **Basic Data Manipulation for the Different Datatypes.**\n",
    "4. **Flow Control Structures (Conditionals and loops).**\n",
    "5. **Functional Programming.**"
   ]
  },
  {
   "cell_type": "markdown",
   "id": "3bc5b7c4-4600-4b11-b704-a678dd537f2b",
   "metadata": {
    "tags": []
   },
   "source": [
    "### 1. Variables"
   ]
  },
  {
   "cell_type": "markdown",
   "id": "7362b7d1-19f5-461f-9cbe-ea2318066cb1",
   "metadata": {},
   "source": [
    "* *Variables are containers for storing data values.*<br>\n",
    "* *Variables are created using a declaration or keyword.*<br>\n",
    "* *Variable names are alphanumeric, they may contain letters (a-z) and numbers (0-9). They can also include underscores in Python.*<br>\n",
    "* *Variables can hold values of any data type.*<br>\n",
    "* ***This value may change during program execution.***"
   ]
  },
  {
   "cell_type": "markdown",
   "id": "83387a3b-800c-401c-b36f-7761bc630951",
   "metadata": {},
   "source": [
    "* Good examples for variable names\n",
    "```python\n",
    "myvar = \"John\"\n",
    "my_var = \"John\"\n",
    "_my_var = \"John\"\n",
    "myVar = \"John\"\n",
    "MYVAR = \"John\"\n",
    "myvar2 = \"John\"\n",
    "```"
   ]
  },
  {
   "cell_type": "markdown",
   "id": "648c52d8-c2ea-4fed-8c61-22eea394cf76",
   "metadata": {},
   "source": [
    "* Bad/Illegal examples for variable names\n",
    "```python\n",
    "2myvar = \"John\"\n",
    "my-var = \"John\"\n",
    "my var = \"John\"\n",
    "```"
   ]
  },
  {
   "cell_type": "markdown",
   "id": "b8be1f5b-a819-4397-b81b-071938658598",
   "metadata": {
    "tags": []
   },
   "source": [
    "### 2. Data Types and Structures"
   ]
  },
  {
   "cell_type": "markdown",
   "id": "a6257e56-60a8-41b4-b471-dca8f0438e18",
   "metadata": {},
   "source": [
    "* Text Type: *String* -> ***str***<br>\n",
    "* Numeric Types: *Numbers* -> ***int, float, complex***<br>\n",
    "* Sequence Types: *Simple Data Structures* -> ***list, tuple, range***<br>\n",
    "* Mapping Type: *Key-Value Data Structure* -> ***dict***<br>\n",
    "* Set Types: *Multi-Value Structure* -> ***set***<br>\n",
    "* Boolean Type: *True-False Values* -> ***bool***"
   ]
  },
  {
   "cell_type": "markdown",
   "id": "8de41924-8464-4747-affd-48fbe36b130f",
   "metadata": {},
   "source": [
    "* Examples variable for the different data types\n",
    "```python\n",
    "x = \"Hello World\"                            # str\n",
    "x = 20                                       # int\n",
    "x = 20.5                                     # float\n",
    "x = 1j                                       # complex\n",
    "x = [\"apple\", \"banana\", \"cherry\"]            # list\n",
    "x = (\"apple\", \"banana\", \"cherry\")            # tuple\n",
    "x = range(6)                                 # range\n",
    "x = {\"name\" : \"John\", \"age\" : 36}            # dict\n",
    "x = {\"apple\", \"banana\", \"cherry\"}            # set\n",
    "x = True                                     # bool\n",
    "```"
   ]
  },
  {
   "cell_type": "markdown",
   "id": "b502cfe0-0372-4d58-98d2-dbaf881db750",
   "metadata": {},
   "source": [
    "* Function to get the type of a variable\n",
    "```python\n",
    "type(x)                                              # x is the variable in question\n",
    "```"
   ]
  },
  {
   "cell_type": "code",
   "execution_count": 4,
   "id": "df8369e8-6b33-4740-9085-379d8effd8f1",
   "metadata": {},
   "outputs": [
    {
     "name": "stdout",
     "output_type": "stream",
     "text": [
      "<class 'int'>\n"
     ]
    }
   ],
   "source": [
    "# Change the value of x below and see the changes in data type\n",
    "x = 20\n",
    "print(type(x))"
   ]
  },
  {
   "cell_type": "markdown",
   "id": "6564b2a1-a5b1-4829-943c-aa99bd67b43b",
   "metadata": {
    "tags": []
   },
   "source": [
    "### 3. Operators"
   ]
  },
  {
   "cell_type": "markdown",
   "id": "ce295855-a685-4255-99e6-cfc5ae83f739",
   "metadata": {
    "tags": []
   },
   "source": [
    "#### i. Arithmetic Operators"
   ]
  },
  {
   "cell_type": "markdown",
   "id": "95dc676a-20ac-4a5b-a906-dd015898345d",
   "metadata": {},
   "source": [
    "| Operator | <div style=\"width:350px\">Name</div> | Example |\n",
    "| :-: | :- | :-: |\n",
    "| + | Addition | x + y |\n",
    "| - | Subtraction | x - y |\n",
    "| * | Multiplication | x * y |\n",
    "| / | Division | x / y |\n",
    "| % | Modulus | x % y |\n",
    "| ** | Exponentiation | x ** y |\n",
    "| // | Floor division | x // y |"
   ]
  },
  {
   "cell_type": "markdown",
   "id": "1abf078b-4cd6-45a5-a17f-709c974c1f0a",
   "metadata": {
    "tags": []
   },
   "source": [
    "#### ii. Comparison Operators"
   ]
  },
  {
   "cell_type": "markdown",
   "id": "6befdaba-ebe4-426e-9921-208080ddc209",
   "metadata": {},
   "source": [
    "| Operator | <div style=\"width:350px\">Name</div> | Example |\n",
    "| :-: | :- | :-: |\n",
    "| == | Equal | x == y |\n",
    "| != | Not equal | x != y |\n",
    "| > | Greater than | x > y |\n",
    "| < | Less than | x < y |\n",
    "| >= | Greater than or equal to | x >= y |\n",
    "| <= | Less than or equal to | x <= y |"
   ]
  },
  {
   "cell_type": "markdown",
   "id": "d4e26880-e504-47bc-9c31-cd0d7b4150b6",
   "metadata": {
    "tags": []
   },
   "source": [
    "#### iii. Logical Operators"
   ]
  },
  {
   "cell_type": "markdown",
   "id": "c7907304-75db-4d94-8620-4e4e18038411",
   "metadata": {},
   "source": [
    "| Operator | <div style=\"width:350px\">Description</div> | Example |\n",
    "| :- | :- | :- |\n",
    "| and | Returns True if both statements are true | x < 2 and  x < 4 |\n",
    "| or | Returns True if one of the statements is true | x < 6 or x < 8 |\n",
    "| not | Reverse the result, returns False if the result is true | not(x < 9 and x < 10) |"
   ]
  },
  {
   "cell_type": "markdown",
   "id": "f53de101-11b7-4e31-9040-ec146676dfd4",
   "metadata": {
    "tags": []
   },
   "source": [
    "#### iv. Membership Operators"
   ]
  },
  {
   "cell_type": "markdown",
   "id": "8e72247c-bd48-48ea-8818-5dde399582ce",
   "metadata": {},
   "source": [
    "| Operator | <div style=\"width:350px\">Description</div> | Example |\n",
    "| :- | :- | :- |\n",
    "| in | Returns True if a sequence with the specified value is present in the object | x in y |\n",
    "| not in | Returns True if a sequence with the specified value is not present in the object | x not in y |"
   ]
  },
  {
   "cell_type": "markdown",
   "id": "fa959ffc-ae02-43f2-9e18-e7aadd0a5987",
   "metadata": {
    "tags": []
   },
   "source": [
    "### 4. Basic Data Manipulation for the Different Datatypes"
   ]
  },
  {
   "cell_type": "markdown",
   "id": "0abe9c61-927d-44c3-b079-02118a44c4cd",
   "metadata": {
    "tags": []
   },
   "source": [
    "#### i. Numbers"
   ]
  },
  {
   "cell_type": "markdown",
   "id": "1872186f-37b9-4e04-b66d-62a3e8338c6b",
   "metadata": {},
   "source": [
    "Numbers can be one of these 3 options:\n",
    "- Integers.\n",
    "- Floats.\n",
    "- Complex numbers."
   ]
  },
  {
   "cell_type": "code",
   "execution_count": 5,
   "id": "0792ba27-d443-4012-a850-7812d567f28d",
   "metadata": {},
   "outputs": [],
   "source": [
    "x = 1    # int\n",
    "y = 2.8  # float\n",
    "z = 1j   # complex"
   ]
  },
  {
   "cell_type": "code",
   "execution_count": 6,
   "id": "7fbf74fd-9a04-4d38-841e-94306b3c9122",
   "metadata": {},
   "outputs": [
    {
     "name": "stdout",
     "output_type": "stream",
     "text": [
      "a =  1.0\n",
      "Type of a =  <class 'float'>\n"
     ]
    }
   ],
   "source": [
    "# convert from int to float:\n",
    "a = float(x)\n",
    "print('a = ', a)\n",
    "print('Type of a = ', type(a))"
   ]
  },
  {
   "cell_type": "code",
   "execution_count": 7,
   "id": "fb01574c-9990-4a51-b2c1-b0d5c04fd7fe",
   "metadata": {},
   "outputs": [
    {
     "name": "stdout",
     "output_type": "stream",
     "text": [
      "b =  2\n",
      "Type of b =  <class 'int'>\n"
     ]
    }
   ],
   "source": [
    "#convert from float to int:\n",
    "b = int(y)\n",
    "print('b = ', b)\n",
    "print('Type of b = ', type(b))"
   ]
  },
  {
   "cell_type": "code",
   "execution_count": 8,
   "id": "bdcf2032-c9ad-45ba-8471-dc03365c553a",
   "metadata": {},
   "outputs": [
    {
     "name": "stdout",
     "output_type": "stream",
     "text": [
      "c =  (1+0j)\n",
      "Type of c =  <class 'complex'>\n"
     ]
    }
   ],
   "source": [
    "#convert from int to complex:\n",
    "c = complex(x)\n",
    "print('c = ', c)\n",
    "print('Type of c = ', type(c))"
   ]
  },
  {
   "cell_type": "markdown",
   "id": "468b8b46-5386-41b0-ab6f-22f446c11348",
   "metadata": {
    "tags": []
   },
   "source": [
    "#### ii. Booleans"
   ]
  },
  {
   "cell_type": "markdown",
   "id": "4d327477-9ccb-484c-bcdf-ab5ff9e69d1f",
   "metadata": {},
   "source": [
    "***Booleans*** are ***True*** or ***False*** values, these can be very useful in many cases."
   ]
  },
  {
   "cell_type": "code",
   "execution_count": 9,
   "id": "e729c84d-9437-438f-b7bb-a9e966943084",
   "metadata": {},
   "outputs": [
    {
     "name": "stdout",
     "output_type": "stream",
     "text": [
      "True\n",
      "False\n",
      "False\n"
     ]
    }
   ],
   "source": [
    "print(10 > 9)\n",
    "print(10 == 9)\n",
    "print(10 < 9)"
   ]
  },
  {
   "cell_type": "code",
   "execution_count": 10,
   "id": "254a89a1-501f-4118-8ad0-410a209fc5a4",
   "metadata": {},
   "outputs": [
    {
     "name": "stdout",
     "output_type": "stream",
     "text": [
      "True\n",
      "True\n"
     ]
    }
   ],
   "source": [
    "# Most Values are True\n",
    "x = \"Hello\"\n",
    "y = 15\n",
    "\n",
    "print(bool(x))\n",
    "print(bool(y))"
   ]
  },
  {
   "cell_type": "code",
   "execution_count": 11,
   "id": "f9ef5832-5cd0-4d50-be35-6c412f311264",
   "metadata": {},
   "outputs": [
    {
     "name": "stdout",
     "output_type": "stream",
     "text": [
      "False\n",
      "False\n",
      "False\n",
      "False\n",
      "False\n",
      "False\n",
      "False\n"
     ]
    }
   ],
   "source": [
    "# Some Values are False\n",
    "print(bool(False))\n",
    "print(bool(None))\n",
    "print(bool(0))\n",
    "print(bool(\"\"))\n",
    "print(bool(()))\n",
    "print(bool([]))\n",
    "print(bool({}))"
   ]
  },
  {
   "cell_type": "markdown",
   "id": "4a5644eb-01ef-4a7c-96ac-7f7efed034a8",
   "metadata": {
    "tags": []
   },
   "source": [
    "#### iii. Strings"
   ]
  },
  {
   "cell_type": "markdown",
   "id": "371cda15-da35-4230-9bf1-eb040f7938c9",
   "metadata": {
    "tags": []
   },
   "source": [
    "- **Strings** in Python are indicated by a text surrounded by a single or double quotation marks `''` / `\"\"`.\n",
    "- **Strings** are considered arrays of characters, but in Python a single character is not a data type, so a single character is just a string of length **1**."
   ]
  },
  {
   "cell_type": "code",
   "execution_count": 12,
   "id": "bf431949-2850-42f7-b613-70690c833495",
   "metadata": {},
   "outputs": [
    {
     "name": "stdout",
     "output_type": "stream",
     "text": [
      "e\n"
     ]
    }
   ],
   "source": [
    "# REMEBER THAT INDEXES IN PYTHON START WITH 0 NOT 1\n",
    "a = \"Hello, World!\"\n",
    "print(a[1])"
   ]
  },
  {
   "cell_type": "code",
   "execution_count": 13,
   "id": "e0a81c6a-d919-4c49-90af-be11d5dc8038",
   "metadata": {},
   "outputs": [
    {
     "name": "stdout",
     "output_type": "stream",
     "text": [
      "13\n"
     ]
    }
   ],
   "source": [
    "# To get the length of a String\n",
    "a = \"Hello, World!\"\n",
    "print(len(a))"
   ]
  },
  {
   "cell_type": "code",
   "execution_count": 14,
   "id": "1607b822-5989-4f25-8948-24d00a2477e7",
   "metadata": {},
   "outputs": [
    {
     "name": "stdout",
     "output_type": "stream",
     "text": [
      "False\n"
     ]
    }
   ],
   "source": [
    "# Check if text exists in a String\n",
    "txt = \"Hello, World!\"\n",
    "print(\"Hi\" in txt)"
   ]
  },
  {
   "cell_type": "markdown",
   "id": "a84a6cfd-5828-4fe7-8f02-0ac94df27ea4",
   "metadata": {},
   "source": [
    "- You can do an operation that is called ***\"Slicing\"*** on ***Strings***, which is basically extracting only a specific part of it."
   ]
  },
  {
   "cell_type": "code",
   "execution_count": 15,
   "id": "31274b3d-7982-431b-860c-844ac8eee1f4",
   "metadata": {},
   "outputs": [
    {
     "name": "stdout",
     "output_type": "stream",
     "text": [
      "llo\n"
     ]
    }
   ],
   "source": [
    "# Between two indexes of the String \n",
    "a = \"Hello, World!\"\n",
    "print(a[2:5])"
   ]
  },
  {
   "cell_type": "code",
   "execution_count": 16,
   "id": "9cdf520f-e7e2-4fcd-a235-8e3fb4780d5c",
   "metadata": {},
   "outputs": [
    {
     "name": "stdout",
     "output_type": "stream",
     "text": [
      "Hello\n"
     ]
    }
   ],
   "source": [
    "# From the start to a certain index \n",
    "a = \"Hello, World!\"\n",
    "print(a[:5])"
   ]
  },
  {
   "cell_type": "code",
   "execution_count": 17,
   "id": "7c5b64df-c33b-496b-9c9c-05374ede388d",
   "metadata": {},
   "outputs": [
    {
     "name": "stdout",
     "output_type": "stream",
     "text": [
      "World!\n"
     ]
    }
   ],
   "source": [
    "# From the end to a certain index \n",
    "a = \"Hello, World!\"\n",
    "print(a[7:])"
   ]
  },
  {
   "cell_type": "markdown",
   "id": "02c5c59d-b032-4a7c-a039-8437d57924cf",
   "metadata": {
    "tags": []
   },
   "source": [
    "### INFORMATION ABOUT THE FOLLOWING DATA TYPES\n",
    "\n",
    "There are four array data types in the Python programming language:\n",
    "- ***List*** is a array which is *\\*ordered\\** and *\\*changeable\\**. **Allows duplicate members**.\n",
    "- ***Tuple*** is a array which is *\\*ordered\\** and *\\*unchangeable\\**. **Allows duplicate members**.\n",
    "- ***Set*** is a array which is *\\*unordered\\**, *unchangeable\\**, and unindexed. **No duplicate members**.\n",
    "- ***Dictionary*** is a array which is *\\*ordered\\** and *\\*changeable\\**. **No duplicate members**."
   ]
  },
  {
   "cell_type": "markdown",
   "id": "27102d9a-98cc-4529-9237-32b7a4289eb2",
   "metadata": {
    "tags": []
   },
   "source": [
    "#### iv. Lists"
   ]
  },
  {
   "cell_type": "markdown",
   "id": "e0577313-5633-4863-b057-baa68019c8dc",
   "metadata": {},
   "source": [
    "- ***Lists*** are created using `[]` bracets.\n",
    "- Length of a ***List*** can be determined jsut like *Strings* using `len()`."
   ]
  },
  {
   "cell_type": "code",
   "execution_count": 18,
   "id": "6bf17d27-50e2-47c5-97a0-19de8bf305d8",
   "metadata": {
    "tags": []
   },
   "outputs": [
    {
     "name": "stdout",
     "output_type": "stream",
     "text": [
      "3\n"
     ]
    }
   ],
   "source": [
    "# Example of len() on a list\n",
    "thislist = [\"tshirt\", \"pants\", \"shorts\"]\n",
    "print(len(thislist))"
   ]
  },
  {
   "cell_type": "markdown",
   "id": "149caaf7-4780-4c0f-97ca-1b3c9a625403",
   "metadata": {},
   "source": [
    "- Since ***Lists*** are indexed, each value has an index, you can access each value using its index number.\n",
    "- ***Slicing*** can be also applied here, just like *Strings*."
   ]
  },
  {
   "cell_type": "code",
   "execution_count": 19,
   "id": "d5bdf36d-e030-463d-82f6-b0654633e005",
   "metadata": {
    "tags": []
   },
   "outputs": [
    {
     "name": "stdout",
     "output_type": "stream",
     "text": [
      "thislist[0] =  tshirt\n",
      "thislist[-1] =  skirt\n",
      "thislist[2:4] =  ['shorts', 'dress']\n"
     ]
    }
   ],
   "source": [
    "# Example of a list access\n",
    "thislist = [\"tshirt\", \"pants\", \"shorts\", \"dress\", 'skirt']\n",
    "print('thislist[0] = ', thislist[0])\n",
    "print('thislist[-1] = ', thislist[-1])  # -1 here means the last element in the list\n",
    "print('thislist[2:4] = ', thislist[2:4]) # List splicing produces another list"
   ]
  },
  {
   "cell_type": "markdown",
   "id": "5bd4e0c0-bae6-4f30-81f3-595e01ddea1c",
   "metadata": {},
   "source": [
    "- Values in a ***List*** can be changed using the *index* and a different value."
   ]
  },
  {
   "cell_type": "code",
   "execution_count": 20,
   "id": "3a07a496-9230-411f-856a-922378aef7a2",
   "metadata": {},
   "outputs": [
    {
     "name": "stdout",
     "output_type": "stream",
     "text": [
      "['tshirt', 'pants', 'shorts']\n",
      "['tshirt', 'skirt', 'shorts']\n"
     ]
    }
   ],
   "source": [
    "# Example of value change in a list\n",
    "thislist = [\"tshirt\", \"pants\", \"shorts\"]\n",
    "print(thislist)\n",
    "thislist[1] = \"skirt\"\n",
    "print(thislist)"
   ]
  },
  {
   "cell_type": "markdown",
   "id": "230f3fc4-8329-4cd8-a237-9bbef3da57d4",
   "metadata": {},
   "source": [
    "- *New items* can be added to a ***List*** and there are multiple ways to do so."
   ]
  },
  {
   "cell_type": "code",
   "execution_count": 21,
   "id": "d6ce2517-f0d8-4beb-aa84-3437a041239b",
   "metadata": {},
   "outputs": [
    {
     "name": "stdout",
     "output_type": "stream",
     "text": [
      "['tshirt', 'pants', 'skirt', 'shorts']\n"
     ]
    }
   ],
   "source": [
    "# Using insert, which needs the required index and the value\n",
    "thislist = [\"tshirt\", \"pants\", \"shorts\"]\n",
    "thislist.insert(2, \"skirt\")\n",
    "print(thislist)"
   ]
  },
  {
   "cell_type": "code",
   "execution_count": 22,
   "id": "f603f308-d883-4fea-a437-e3afb7e6bc86",
   "metadata": {},
   "outputs": [
    {
     "name": "stdout",
     "output_type": "stream",
     "text": [
      "['tshirt', 'pants', 'shorts', 'skirt']\n"
     ]
    }
   ],
   "source": [
    "# Using append, which add items to the end of the List\n",
    "thislist = [\"tshirt\", \"pants\", \"shorts\"]\n",
    "thislist.append(\"skirt\")\n",
    "print(thislist)"
   ]
  },
  {
   "cell_type": "code",
   "execution_count": 23,
   "id": "5c2f36d8-faee-49d7-8c75-f4fe8b3a1000",
   "metadata": {},
   "outputs": [
    {
     "name": "stdout",
     "output_type": "stream",
     "text": [
      "['tshirt', 'pants', 'shorts', 'dress', 'skirt']\n"
     ]
    }
   ],
   "source": [
    "# You can also use extend, using another List or any other iterable structure like Tuples, Sets or Dictionaries\n",
    "thislist = [\"tshirt\", \"pants\", \"shorts\"]\n",
    "thatlist = [\"dress\", 'skirt']\n",
    "thislist.extend(thatlist)\n",
    "print(thislist)"
   ]
  },
  {
   "cell_type": "markdown",
   "id": "4c2da90e-7346-491c-8fcf-da69e9174567",
   "metadata": {},
   "source": [
    "- *Elements* can be removed from ***List*** using a couple of ways as well."
   ]
  },
  {
   "cell_type": "code",
   "execution_count": 24,
   "id": "ac9d1e2c-541d-4d4b-b1fd-d6461b70fade",
   "metadata": {},
   "outputs": [
    {
     "name": "stdout",
     "output_type": "stream",
     "text": [
      "['tshirt', 'shorts']\n"
     ]
    }
   ],
   "source": [
    "# Using remove, which removes an element using its value\n",
    "thislist = [\"tshirt\", \"pants\", \"shorts\"]\n",
    "thislist.remove(\"pants\")\n",
    "print(thislist)"
   ]
  },
  {
   "cell_type": "code",
   "execution_count": 25,
   "id": "689006c5-635e-4c87-a59f-329dab901935",
   "metadata": {},
   "outputs": [
    {
     "name": "stdout",
     "output_type": "stream",
     "text": [
      "['tshirt', 'pants']\n"
     ]
    }
   ],
   "source": [
    "# Using pop, which removes the last element in a List\n",
    "thislist = [\"tshirt\", \"pants\", \"shorts\"]\n",
    "thislist.pop()\n",
    "print(thislist)"
   ]
  },
  {
   "cell_type": "markdown",
   "id": "5baa5385-ff09-4e95-a6fa-3a3cd4eb9dbd",
   "metadata": {},
   "source": [
    "- `sort()` can be used to arrange a list"
   ]
  },
  {
   "cell_type": "code",
   "execution_count": 26,
   "id": "1063d255-bc39-4057-a056-2df2b860dbb8",
   "metadata": {},
   "outputs": [
    {
     "name": "stdout",
     "output_type": "stream",
     "text": [
      "[1, 15, 23, 32, 50]\n"
     ]
    }
   ],
   "source": [
    "# Example of sort() on a List\n",
    "thislist = [1, 50, 15, 32, 23]\n",
    "thislist.sort()\n",
    "print(thislist)"
   ]
  },
  {
   "cell_type": "code",
   "execution_count": 27,
   "id": "e6f2bf2b-73cd-451e-95cb-e2dc33bd48f7",
   "metadata": {},
   "outputs": [
    {
     "name": "stdout",
     "output_type": "stream",
     "text": [
      "[50, 32, 23, 15, 1]\n"
     ]
    }
   ],
   "source": [
    "# Example of sort() descendingly on a List\n",
    "thislist = [1, 50, 15, 32, 23]\n",
    "thislist.sort(reverse=True)\n",
    "print(thislist)"
   ]
  },
  {
   "cell_type": "markdown",
   "id": "07382d75-65ee-4903-ad40-3861dd7d3f18",
   "metadata": {
    "tags": []
   },
   "source": [
    "#### v. Tuples"
   ]
  },
  {
   "cell_type": "markdown",
   "id": "ce553263-45b8-4dd4-859a-29a2336e648b",
   "metadata": {},
   "source": [
    "- ***Tuples*** are created using `()` bracets.\n",
    "- Length of a ***Tuple*** can be determined just like *Strings* and *Lists* using `len()`."
   ]
  },
  {
   "cell_type": "code",
   "execution_count": 28,
   "id": "dd373fb0-81fc-44be-b98d-c3d7b0f2f4ca",
   "metadata": {
    "tags": []
   },
   "outputs": [
    {
     "name": "stdout",
     "output_type": "stream",
     "text": [
      "3\n"
     ]
    }
   ],
   "source": [
    "# Example of len() on a Tuple\n",
    "thistuple = (\"tshirt\", \"pants\", \"shorts\")\n",
    "print(len(thistuple))"
   ]
  },
  {
   "cell_type": "markdown",
   "id": "825d25be-6edb-45be-9906-1d487ba3c51b",
   "metadata": {},
   "source": [
    "- Accessing values in a ***Tuple*** is again the same as *Lists* and *Strings*."
   ]
  },
  {
   "cell_type": "code",
   "execution_count": 29,
   "id": "28e7a55a-ab7c-4b37-8f45-69edfa001dec",
   "metadata": {
    "tags": []
   },
   "outputs": [
    {
     "name": "stdout",
     "output_type": "stream",
     "text": [
      "thistuple[0] =  tshirt\n",
      "thistuple[-1] =  skirt\n",
      "thistuple[2:4] =  ('shorts', 'dress')\n"
     ]
    }
   ],
   "source": [
    "# Example of a Tuple access\n",
    "thistuple = (\"tshirt\", \"pants\", \"shorts\", \"dress\", \"skirt\")\n",
    "print('thistuple[0] = ', thistuple[0])\n",
    "print('thistuple[-1] = ', thistuple[-1])  # -1 here means the last element in the list\n",
    "print('thistuple[2:4] = ', thistuple[2:4]) # List splicing produces another list"
   ]
  },
  {
   "cell_type": "markdown",
   "id": "0239579e-c48e-4d27-b708-044e5e2e42b8",
   "metadata": {},
   "source": [
    "- Since ***Tuples*** cannot be changes or in other words *immutable*, one cannot add or remove elements from them."
   ]
  },
  {
   "cell_type": "markdown",
   "id": "89f23ad5-63d7-4752-87e9-40b878ab084b",
   "metadata": {
    "tags": []
   },
   "source": [
    "#### vi. Sets"
   ]
  },
  {
   "cell_type": "markdown",
   "id": "0acb9ca6-8508-4664-96ef-ab522f71d43d",
   "metadata": {},
   "source": [
    "- ***Sets*** are created using `{}` bracets.\n",
    "- Length of a ***Sets*** can be determined using, you guessed right, `len()`."
   ]
  },
  {
   "cell_type": "code",
   "execution_count": 30,
   "id": "2d5f91ec-198d-411d-a961-d9f9812f361f",
   "metadata": {
    "tags": []
   },
   "outputs": [
    {
     "name": "stdout",
     "output_type": "stream",
     "text": [
      "3\n"
     ]
    }
   ],
   "source": [
    "# Example of len() on a Tuple\n",
    "thisset = {\"tshirt\", \"pants\", \"shorts\"}\n",
    "print(len(thisset))"
   ]
  },
  {
   "cell_type": "markdown",
   "id": "0849afcf-fcda-4f94-bc92-5d7d8fed6bb4",
   "metadata": {},
   "source": [
    "- Since ***Sets*** are unindexed there is no direct way to access their values."
   ]
  },
  {
   "cell_type": "markdown",
   "id": "e333dfb4-1d0a-4e83-a581-b335552917db",
   "metadata": {},
   "source": [
    "- *New items* can be added to a ***Set*** and there is a couple of ways to do so."
   ]
  },
  {
   "cell_type": "code",
   "execution_count": 31,
   "id": "ab3997af-5581-40ad-8710-94d66efddedc",
   "metadata": {},
   "outputs": [
    {
     "name": "stdout",
     "output_type": "stream",
     "text": [
      "{'skirt', 'shorts', 'tshirt', 'pants'}\n"
     ]
    }
   ],
   "source": [
    "# Using add(), which needs only a value to be added the the Set\n",
    "thisset = {\"tshirt\", \"pants\", \"shorts\"}\n",
    "thisset.add(\"skirt\")\n",
    "print(thisset)"
   ]
  },
  {
   "cell_type": "code",
   "execution_count": 32,
   "id": "f16ad384-83e9-4242-a45c-82bf346965f2",
   "metadata": {},
   "outputs": [
    {
     "name": "stdout",
     "output_type": "stream",
     "text": [
      "{'shorts', 'skirt', 'pants', 'dress', 'tshirt'}\n"
     ]
    }
   ],
   "source": [
    "# Using update(), using another Set or any other iterable structure like Lists, Tuples or Dictionaries\n",
    "thisset = {\"tshirt\", \"pants\", \"shorts\"}\n",
    "thatset = {\"dress\", 'skirt'}\n",
    "thisset.update(thatset)\n",
    "print(thisset)"
   ]
  },
  {
   "cell_type": "markdown",
   "id": "5b8179c9-aea9-40e4-b9a9-1920804646ac",
   "metadata": {},
   "source": [
    "- *Elements* can be removed from a ***Set*** using multiple ways as well."
   ]
  },
  {
   "cell_type": "code",
   "execution_count": 33,
   "id": "e22f88b5-606c-441c-9a03-5682599644fa",
   "metadata": {},
   "outputs": [
    {
     "name": "stdout",
     "output_type": "stream",
     "text": [
      "{'shorts', 'tshirt'}\n"
     ]
    }
   ],
   "source": [
    "# Using remove, which removes an element using its value (Gives an error if element is not in the Set)\n",
    "thisset = {\"tshirt\", \"pants\", \"shorts\"}\n",
    "thisset.remove(\"pants\")\n",
    "print(thisset)"
   ]
  },
  {
   "cell_type": "code",
   "execution_count": 34,
   "id": "d0dd40c4-5cbe-4ae3-958c-206ed9944e70",
   "metadata": {},
   "outputs": [
    {
     "name": "stdout",
     "output_type": "stream",
     "text": [
      "{'shorts', 'tshirt'}\n"
     ]
    }
   ],
   "source": [
    "# Using dicard(), which removes an element using its value (Doesn't give an error if element is not in the Set)\n",
    "thisset = {\"tshirt\", \"pants\", \"shorts\"}\n",
    "thisset.discard(\"pants\")\n",
    "print(thisset)"
   ]
  },
  {
   "cell_type": "code",
   "execution_count": 35,
   "id": "85984ea1-cbb1-4ad2-ab2f-0ddc69961add",
   "metadata": {},
   "outputs": [
    {
     "name": "stdout",
     "output_type": "stream",
     "text": [
      "{'shorts', 'pants', 'dress', 'tshirt'}\n"
     ]
    }
   ],
   "source": [
    "# Using pop, which removes a random element in a Set\n",
    "thisset = {\"tshirt\", \"pants\", \"shorts\", \"dress\", \"skirt\"}\n",
    "thisset.pop()\n",
    "print(thisset)"
   ]
  },
  {
   "cell_type": "markdown",
   "id": "002e7ba2-2f45-4533-ba13-626d24eb8c0f",
   "metadata": {
    "tags": []
   },
   "source": [
    "#### vii. Dictionaries"
   ]
  },
  {
   "cell_type": "markdown",
   "id": "8ea7aa3d-028f-40c1-a979-17720ad83bad",
   "metadata": {},
   "source": [
    "- ***Dictionaries*** are created using `{}` bracets just like *Sets*, but ***Dictionaries*** have a **Key:Value** pair structure.\n",
    "- Length of a ***Dictionaries*** can be determined using, you guessed right, `len()`."
   ]
  },
  {
   "cell_type": "code",
   "execution_count": 36,
   "id": "7d1b60dd-b56c-4285-ab75-3139c8ac5936",
   "metadata": {
    "tags": []
   },
   "outputs": [
    {
     "name": "stdout",
     "output_type": "stream",
     "text": [
      "3\n"
     ]
    }
   ],
   "source": [
    "# Example of len() on a Tuple\n",
    "thisdict = {\n",
    "    \"name\": \"Bob\", \n",
    "    \"age\": 21, \n",
    "    \"level\": 2\n",
    "}\n",
    "print(len(thisdict))"
   ]
  },
  {
   "cell_type": "markdown",
   "id": "0eefa4f4-b4df-4b2a-9402-2936fdcaa62d",
   "metadata": {},
   "source": [
    "- Accessing values in a ***Dictionary*** is alittle different, you need to use the **key** to the **value**."
   ]
  },
  {
   "cell_type": "code",
   "execution_count": 37,
   "id": "d34c8b90-e7bf-4529-bbcf-442b2cd26104",
   "metadata": {
    "tags": []
   },
   "outputs": [
    {
     "name": "stdout",
     "output_type": "stream",
     "text": [
      "thisdict['name'] =  Bob\n"
     ]
    }
   ],
   "source": [
    "# Example of a Dictionary access\n",
    "thisdict = {\n",
    "    \"name\": \"Bob\", \n",
    "    \"age\": 21, \n",
    "    \"level\": 2\n",
    "}\n",
    "print(\"thisdict['name'] = \", thisdict['name'])"
   ]
  },
  {
   "cell_type": "markdown",
   "id": "0a63b29a-ba65-489a-b21b-3d70ca018bc1",
   "metadata": {},
   "source": [
    "- Accessing keys in a ***Dictionary*** can be done using `keys()`"
   ]
  },
  {
   "cell_type": "code",
   "execution_count": 38,
   "id": "720491fe-c146-4133-90a8-50a3b674bb36",
   "metadata": {
    "tags": []
   },
   "outputs": [
    {
     "name": "stdout",
     "output_type": "stream",
     "text": [
      "dict_keys(['name', 'age', 'level'])\n"
     ]
    }
   ],
   "source": [
    "# Example of a Dictionary keys access\n",
    "thisdict = {\n",
    "    \"name\": \"Bob\", \n",
    "    \"age\": 21, \n",
    "    \"level\": 2\n",
    "}\n",
    "print(thisdict.keys())"
   ]
  },
  {
   "cell_type": "markdown",
   "id": "49b1a77b-0d84-4471-821f-d2d3ef037a82",
   "metadata": {},
   "source": [
    "- Accessing values in a ***Dictionary*** can be done using `values()`"
   ]
  },
  {
   "cell_type": "code",
   "execution_count": 39,
   "id": "dd14adb9-6f44-469e-9769-b76e904ac8ad",
   "metadata": {
    "tags": []
   },
   "outputs": [
    {
     "name": "stdout",
     "output_type": "stream",
     "text": [
      "dict_values(['Bob', 21, 2])\n"
     ]
    }
   ],
   "source": [
    "# Example of a Dictionary values access\n",
    "thisdict = {\n",
    "    \"name\": \"Bob\", \n",
    "    \"age\": 21, \n",
    "    \"level\": 2\n",
    "}\n",
    "print(thisdict.values())"
   ]
  },
  {
   "cell_type": "markdown",
   "id": "2c012bff-1132-453e-a6d3-fb635f45df3a",
   "metadata": {},
   "source": [
    "- Values in a ***Dictionary*** can be changed using the *key* and a different value."
   ]
  },
  {
   "cell_type": "code",
   "execution_count": 40,
   "id": "bd5b8d2a-48e8-487f-a322-be6cf0cec4fb",
   "metadata": {},
   "outputs": [
    {
     "name": "stdout",
     "output_type": "stream",
     "text": [
      "{'name': 'Bob', 'age': 21, 'level': 2}\n",
      "{'name': 'Jeff', 'age': 21, 'level': 2}\n"
     ]
    }
   ],
   "source": [
    "# Example of value change in a Dictionary\n",
    "thisdict = {\n",
    "    \"name\": \"Bob\", \n",
    "    \"age\": 21, \n",
    "    \"level\": 2\n",
    "}\n",
    "print(thisdict)\n",
    "thisdict[\"name\"] = \"Jeff\"\n",
    "print(thisdict)"
   ]
  },
  {
   "cell_type": "markdown",
   "id": "7c168ab7-0bbf-44c8-a666-80fd65a6668f",
   "metadata": {},
   "source": [
    "- New **Key:Value** pair can be easily added to a ***Dictionary***."
   ]
  },
  {
   "cell_type": "code",
   "execution_count": 41,
   "id": "25d5a810-a0d9-4088-b07e-ce4705353d46",
   "metadata": {},
   "outputs": [
    {
     "name": "stdout",
     "output_type": "stream",
     "text": [
      "{'name': 'Bob', 'age': 21, 'level': 2}\n",
      "{'name': 'Bob', 'age': 21, 'level': 2, 'programme': 'E&E'}\n"
     ]
    }
   ],
   "source": [
    "# Example of adding a new pair to Dictionary\n",
    "thisdict = {\n",
    "    \"name\": \"Bob\", \n",
    "    \"age\": 21, \n",
    "    \"level\": 2\n",
    "}\n",
    "print(thisdict)\n",
    "thisdict[\"programme\"] = \"E&E\"\n",
    "print(thisdict)"
   ]
  },
  {
   "cell_type": "markdown",
   "id": "f4b55dd7-751a-48df-b655-47371c2389e9",
   "metadata": {},
   "source": [
    "- In ***Dictionary***, you can remove items using a couple of ways."
   ]
  },
  {
   "cell_type": "code",
   "execution_count": 42,
   "id": "da020667-abe0-47ef-b29d-cdbc1c26cca7",
   "metadata": {},
   "outputs": [
    {
     "name": "stdout",
     "output_type": "stream",
     "text": [
      "{'name': 'Bob', 'age': 21, 'level': 2}\n",
      "{'name': 'Bob', 'age': 21}\n"
     ]
    }
   ],
   "source": [
    "# Using pop() to remove a specific item\n",
    "thisdict = {\n",
    "    \"name\": \"Bob\", \n",
    "    \"age\": 21, \n",
    "    \"level\": 2\n",
    "}\n",
    "print(thisdict)\n",
    "thisdict.pop(\"level\")\n",
    "print(thisdict)"
   ]
  },
  {
   "cell_type": "code",
   "execution_count": 43,
   "id": "0ffd53f8-7385-4ffb-9d2c-8c364024318a",
   "metadata": {},
   "outputs": [
    {
     "name": "stdout",
     "output_type": "stream",
     "text": [
      "{'name': 'Bob', 'age': 21, 'level': 2}\n",
      "{'name': 'Bob', 'age': 21}\n"
     ]
    }
   ],
   "source": [
    "# Using popitem() to remove the latest added item\n",
    "thisdict = {\n",
    "    \"name\": \"Bob\", \n",
    "    \"age\": 21, \n",
    "    \"level\": 2\n",
    "}\n",
    "print(thisdict)\n",
    "thisdict.popitem()\n",
    "print(thisdict)"
   ]
  },
  {
   "cell_type": "markdown",
   "id": "6d6d4208-b5b0-49c5-8d87-144b47307e96",
   "metadata": {
    "tags": []
   },
   "source": [
    "### 5. Flow Control Structures"
   ]
  },
  {
   "cell_type": "markdown",
   "id": "89c0c144-fce0-495c-81b6-0200046d1e02",
   "metadata": {
    "tags": []
   },
   "source": [
    "#### - Sequential Flow"
   ]
  },
  {
   "cell_type": "markdown",
   "id": "c9b52c91-c01e-4b40-93a8-652172ecec13",
   "metadata": {},
   "source": [
    "This is the generally used flow in every programming language, just like following a an instruction guide step by step, the code is compiled line by line.\n",
    "- Every line of code we written so far are basic sequential flows."
   ]
  },
  {
   "cell_type": "markdown",
   "id": "754a8ac3-46b8-466a-8bce-74598b30c470",
   "metadata": {},
   "source": [
    "<img style=\"display: block;\n",
    "                    margin-left: auto;\n",
    "                    margin-right: auto;\n",
    "                    width: 150px;\"\n",
    "     src='\\assets\\seq flow.png' \n",
    "     alt='seq flow'\n",
    "/>"
   ]
  },
  {
   "cell_type": "markdown",
   "id": "b14cb376-1224-49b9-9fc9-95df68539572",
   "metadata": {},
   "source": [
    "#### - Conditional Flow"
   ]
  },
  {
   "cell_type": "markdown",
   "id": "a727a760-b657-4d46-a980-99d034384290",
   "metadata": {},
   "source": [
    "In this type of flow control a condition is presented along side paths of action for whether the condition is met or not.<br>\n",
    "Conditional statements are the very essentional in every piece of code, it makes the flow of action somewhat dynamic."
   ]
  },
  {
   "cell_type": "markdown",
   "id": "a4757ef4-5570-44c4-a902-92c3da25672a",
   "metadata": {},
   "source": [
    "<img style=\"display: block;\n",
    "                    margin-left: auto;\n",
    "                    margin-right: auto;\n",
    "                    width: 350px;\"\n",
    "     src='\\assets\\cond flow.png' \n",
    "     alt='seq flow'\n",
    "/>"
   ]
  },
  {
   "cell_type": "code",
   "execution_count": 44,
   "id": "acd572d5-6328-4826-9d40-f7555724eb67",
   "metadata": {},
   "outputs": [
    {
     "name": "stdout",
     "output_type": "stream",
     "text": [
      "b is greater than a\n"
     ]
    }
   ],
   "source": [
    "# Example of a basic conditional statement\n",
    "# You can change the values of a and b to test this conditional\n",
    "a = 3\n",
    "b = 5\n",
    "if b > a:                        # The keyword 'if' is followed by a statement that results in either True or False (NOTICE THE COLON)\n",
    "    print(\"b is greater than a\") # NOTICE THAT WE USED INDENTATION HERE TO INDICATE THAT THIS STATEMENT FALLS UNDER THE IF CONDITION"
   ]
  },
  {
   "cell_type": "markdown",
   "id": "a7ec54ef-a0a0-4364-a064-ecfaab71534f",
   "metadata": {},
   "source": [
    "- Comparison, logical and membership operators can be used in conditional statements"
   ]
  },
  {
   "cell_type": "code",
   "execution_count": 45,
   "id": "e707b961-38e4-4729-a969-02e24508e311",
   "metadata": {},
   "outputs": [
    {
     "name": "stdout",
     "output_type": "stream",
     "text": [
      "a is greater than b\n"
     ]
    }
   ],
   "source": [
    "# Example of elif conditional statement\n",
    "# You can change the values of a and b to test this conditional\n",
    "a = 9\n",
    "b = 5\n",
    "if b > a:\n",
    "    print(\"b is greater than a\")  \n",
    "elif a > b:                      # The keyword 'elif' is followed by a statement that results in either True or False\n",
    "    print(\"a is greater than b\")"
   ]
  },
  {
   "cell_type": "code",
   "execution_count": 46,
   "id": "9763a494-44da-4e3a-ac1d-8928be6bebbd",
   "metadata": {},
   "outputs": [
    {
     "name": "stdout",
     "output_type": "stream",
     "text": [
      "b is greater than a\n"
     ]
    }
   ],
   "source": [
    "# Example of else conditional statement\n",
    "# You can change the values of a and b to test this conditional\n",
    "a = 3\n",
    "b = 5\n",
    "if b > a:\n",
    "    print(\"b is greater than a\") \n",
    "else:\n",
    "    print(\"b is smaller than a\")"
   ]
  },
  {
   "cell_type": "markdown",
   "id": "80955332-6db7-4b04-ba07-b041f87a2afd",
   "metadata": {},
   "source": [
    "- You can of course mix between both elif and else statements."
   ]
  },
  {
   "cell_type": "code",
   "execution_count": 47,
   "id": "5511d905-3592-4ea4-8ef0-696e79a3f8f9",
   "metadata": {},
   "outputs": [
    {
     "name": "stdout",
     "output_type": "stream",
     "text": [
      "b is greater than a\n"
     ]
    }
   ],
   "source": [
    "# Example of else conditional statement\n",
    "# You can change the values of a and b to test this conditional\n",
    "a = 3\n",
    "b = 5\n",
    "if b > a:\n",
    "    print(\"b is greater than a\")\n",
    "elif a == b:\n",
    "    print(\"a is equal to b\")\n",
    "else:\n",
    "    print(\"b is smaller than a\")"
   ]
  },
  {
   "cell_type": "markdown",
   "id": "fbe64a8e-25c1-4f17-9a69-84da3d39afc9",
   "metadata": {},
   "source": [
    "#### - Iteriative Flow"
   ]
  },
  {
   "cell_type": "markdown",
   "id": "97a59aa9-90b8-49fe-b3cf-790292ed3528",
   "metadata": {},
   "source": [
    "A loop is a structure where the code executes a statement **repeatedly** as long as the condition is met.<br>\n",
    "Loops save you from writing the same pieces of code multiple times \\*wink\\*"
   ]
  },
  {
   "cell_type": "markdown",
   "id": "2b0ae0d3-9de8-4867-b3ff-cd9972e6c305",
   "metadata": {
    "tags": []
   },
   "source": [
    "<img style=\"display: block;\n",
    "                    margin-left: auto;\n",
    "                    margin-right: auto;\n",
    "                    width: 350px;\"\n",
    "     src='\\assets\\iter flow.png' \n",
    "     alt='seq flow'\n",
    "/>"
   ]
  },
  {
   "cell_type": "markdown",
   "id": "66ad3dd0-b4e0-4486-84b5-8de74bfa0bf1",
   "metadata": {},
   "source": [
    "- In Python there are 2 types of ***Loops***, ***`while`*** Loops and ***`for`*** Loops."
   ]
  },
  {
   "cell_type": "code",
   "execution_count": 48,
   "id": "52551e54-1862-448f-9e1f-f87526540ee5",
   "metadata": {},
   "outputs": [
    {
     "name": "stdout",
     "output_type": "stream",
     "text": [
      "1\n",
      "2\n"
     ]
    }
   ],
   "source": [
    "# Example of a while loop\n",
    "i = 1\n",
    "while i < 3: # The keyword 'while' is followed by a statement that results in either True or False (NOTICE THE COLON)\n",
    "    print(i)\n",
    "    i += 1   # i here works as an iterator, so we increament it so that the loop can actually stop instead of going on infinitely"
   ]
  },
  {
   "cell_type": "markdown",
   "id": "082747d6-f984-434d-8b1e-54b867d62341",
   "metadata": {},
   "source": [
    "- A ***`for`*** loop is used for iterating over a sequence, it can work over **Lists**, **Sets**, **Tuples**, **Dictionaries** or even **Strings**."
   ]
  },
  {
   "cell_type": "code",
   "execution_count": 49,
   "id": "30573032-fc93-4d32-bb28-e7a8cb512b78",
   "metadata": {},
   "outputs": [
    {
     "name": "stdout",
     "output_type": "stream",
     "text": [
      "tshirt\n",
      "pants\n",
      "shorts\n"
     ]
    }
   ],
   "source": [
    "# Example of a for loop\n",
    "thislist = [\"tshirt\", \"pants\", \"shorts\"]\n",
    "for item in thislist: # The keyword 'for' is followed a variable name to indeicate the current item in the sequence (this case the list) then `in` then list variable name\n",
    "    print(item)       # What is needed to be done using each of the items in the sequence"
   ]
  },
  {
   "cell_type": "markdown",
   "id": "c00dc63f-e525-4fc9-b8db-d3b0577db334",
   "metadata": {},
   "source": [
    "- Using `range()` as iterable in a ***`for`***."
   ]
  },
  {
   "cell_type": "code",
   "execution_count": 50,
   "id": "67d9f17c-4a31-4644-a993-774147012b6a",
   "metadata": {},
   "outputs": [
    {
     "name": "stdout",
     "output_type": "stream",
     "text": [
      "0\n",
      "1\n",
      "2\n"
     ]
    }
   ],
   "source": [
    "# Example of a for loop using range()\n",
    "for i in range(3): # NOTICE THE COLON\n",
    "    print(i)       # Notice that a range iterable startes with 0 not 1! "
   ]
  },
  {
   "cell_type": "code",
   "execution_count": 51,
   "id": "f5785b2b-8d57-4d4f-bb4c-a839abcb6712",
   "metadata": {},
   "outputs": [
    {
     "name": "stdout",
     "output_type": "stream",
     "text": [
      "3\n",
      "4\n"
     ]
    }
   ],
   "source": [
    "# Example of a for loop using range() with a starting and ending value\n",
    "for i in range(3, 5):\n",
    "    print(i)      # Notice that 5 was not included in the values printed"
   ]
  },
  {
   "cell_type": "code",
   "execution_count": 52,
   "id": "1f177056-7141-49aa-a396-6c01bd280f1e",
   "metadata": {},
   "outputs": [
    {
     "name": "stdout",
     "output_type": "stream",
     "text": [
      "10\n",
      "15\n",
      "20\n"
     ]
    }
   ],
   "source": [
    "# Example of a for loop using range() with a starting value, ending value and step size\n",
    "for i in range(10, 21, 5):\n",
    "    print(i)      "
   ]
  },
  {
   "cell_type": "markdown",
   "id": "b0664076-88ef-45d7-9a31-3ba727c24ac2",
   "metadata": {
    "tags": []
   },
   "source": [
    "### 6. Functional Programming"
   ]
  },
  {
   "cell_type": "markdown",
   "id": "74dfc067-162d-48a8-ba45-f00348f984c8",
   "metadata": {},
   "source": [
    "***Functions*** are basically *blocks* of code that **only** run when they are being called.<br>\n",
    "***Functions*** can be given data to use and process (**Paramenters**).<br>\n",
    "***Functions*** can return data that has been processed (**Return value**).<br>"
   ]
  },
  {
   "cell_type": "markdown",
   "id": "9a1e9ad3-1214-4c54-8f9d-fefa6d88d808",
   "metadata": {},
   "source": [
    "- To define a ***Function*** you need to use the keyword ***`def`*** and give the function a meaningful name"
   ]
  },
  {
   "cell_type": "code",
   "execution_count": 53,
   "id": "ab92cde8-c32a-41c7-82a4-5ca92a6cf35f",
   "metadata": {},
   "outputs": [
    {
     "name": "stdout",
     "output_type": "stream",
     "text": [
      "This is my function\n"
     ]
    }
   ],
   "source": [
    "# Example of a Function \n",
    "def my_function():               # NOTICE THE COLON\n",
    "    print(\"This is my function\") # Just like conditionals and loops, you need indentations to show that the following lines belong to the function\n",
    "\n",
    "my_function()"
   ]
  },
  {
   "cell_type": "code",
   "execution_count": 54,
   "id": "20c28010-6d63-4b96-a596-42e5c1300907",
   "metadata": {},
   "outputs": [
    {
     "name": "stdout",
     "output_type": "stream",
     "text": [
      "My name is Bob\n"
     ]
    }
   ],
   "source": [
    "# Example of a Function with a parameter\n",
    "def my_function(name):               \n",
    "    print(\"My name is \" + name)  # Parameters can be used inside the function as variables\n",
    "\n",
    "my_function(\"Bob\")               # When data is given to a function call, it is called an argument"
   ]
  },
  {
   "cell_type": "code",
   "execution_count": 55,
   "id": "b56eaaa6-7aed-4e08-8d40-3b3e19c76e0a",
   "metadata": {},
   "outputs": [
    {
     "name": "stdout",
     "output_type": "stream",
     "text": [
      "My name is Jeff\n"
     ]
    }
   ],
   "source": [
    "# Example of a Function with a parameter default value\n",
    "def my_function(name=\"Jeff\"):               \n",
    "    print(\"My name is \" + name)  \n",
    "\n",
    "my_function()               # Default values are used then the function is not given any data when it is called"
   ]
  },
  {
   "cell_type": "code",
   "execution_count": 56,
   "id": "3bf5d666-0365-4fff-a0d6-4e58dcb639dc",
   "metadata": {},
   "outputs": [
    {
     "name": "stdout",
     "output_type": "stream",
     "text": [
      "My name is Bob\n"
     ]
    }
   ],
   "source": [
    "# Example of a Function with a return value\n",
    "def my_function(name):             \n",
    "    message = \"My name is \" + name\n",
    "    return message                   # Instead of just printing the message like before, one can `return` the whole String as a result of the function when being called\n",
    "\n",
    "function_message = my_function(\"Bob\")\n",
    "print(function_message)"
   ]
  }
 ],
 "metadata": {
  "kernelspec": {
   "display_name": "Python 3 (ipykernel)",
   "language": "python",
   "name": "python3"
  },
  "language_info": {
   "codemirror_mode": {
    "name": "ipython",
    "version": 3
   },
   "file_extension": ".py",
   "mimetype": "text/x-python",
   "name": "python",
   "nbconvert_exporter": "python",
   "pygments_lexer": "ipython3",
   "version": "3.10.9"
  }
 },
 "nbformat": 4,
 "nbformat_minor": 5
}
