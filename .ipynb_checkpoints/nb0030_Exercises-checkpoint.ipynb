{
 "cells": [
  {
   "cell_type": "markdown",
   "id": "3663b3b4-82c0-43ca-8e74-7495f1947005",
   "metadata": {},
   "source": [
    "# Exercises on Functions"
   ]
  },
  {
   "cell_type": "markdown",
   "id": "d08c7694-a5f8-4fb0-9f6c-ced818e415fa",
   "metadata": {
    "tags": []
   },
   "source": [
    "## Level 1: Read and understand the code"
   ]
  },
  {
   "cell_type": "code",
   "execution_count": 1,
   "id": "3d56d17b-a274-48bf-bae0-6c1c4a13ee65",
   "metadata": {},
   "outputs": [],
   "source": [
    "def electric_potential_difference(resistance,current):\n",
    "    return resistance*current"
   ]
  },
  {
   "cell_type": "markdown",
   "id": "9ef5f502-6edf-468e-9c07-d58ab4566f74",
   "metadata": {},
   "source": [
    "## Level 2: Simple funtions"
   ]
  },
  {
   "cell_type": "markdown",
   "id": "82360a7b-533d-44fe-b037-8005256de747",
   "metadata": {},
   "source": [
    "1- Write a function that takes the mass and velocity of an object and returns its momentum using the formula $\\boldsymbol{ p = m * v }$."
   ]
  },
  {
   "cell_type": "code",
   "execution_count": null,
   "id": "a82739c6-a426-4afb-bca2-204d412fa253",
   "metadata": {},
   "outputs": [],
   "source": []
  },
  {
   "cell_type": "markdown",
   "id": "2c1ec7f7-77d1-4252-a380-91aaedd84adc",
   "metadata": {},
   "source": [
    "2- Write a function that takes the mass and velocity of an object and returns its kinetic energy using the formula $\\boldsymbol{KE = \\frac{1}{2} * m * v^2}$."
   ]
  },
  {
   "cell_type": "code",
   "execution_count": null,
   "id": "7849aa7c-0824-4485-8c06-75d6ef435d59",
   "metadata": {},
   "outputs": [],
   "source": []
  },
  {
   "cell_type": "markdown",
   "id": "da6448f1-154e-43d3-94d2-ed39c8648d22",
   "metadata": {},
   "source": [
    "3- Write a function that takes the mass and height of an object and returns its potential energy using the formula $\\boldsymbol{PE = m * g * h}$,<br/> where g is the gravitational acceleration $\\boldsymbol{9.8 \\frac{m}{s^2}}$."
   ]
  },
  {
   "cell_type": "code",
   "execution_count": null,
   "id": "289ecd14-727b-47c4-8ac0-3edf6e94c0f0",
   "metadata": {},
   "outputs": [],
   "source": []
  },
  {
   "cell_type": "markdown",
   "id": "aaeec4e2-51c4-4fc7-a3f8-70f435f82a5d",
   "metadata": {},
   "source": [
    "4- Write a function that takes the coefficients a, b, and c of a linear equation $\\boldsymbol{ax + by = c}$ and returns the slope of the line using the formula $\\boldsymbol{m = -a / b}$."
   ]
  },
  {
   "cell_type": "code",
   "execution_count": null,
   "id": "31d958e6-3e72-4da1-94bc-421d3207b1d0",
   "metadata": {},
   "outputs": [],
   "source": []
  },
  {
   "cell_type": "markdown",
   "id": "53371a5f-5f6b-4295-8d03-330293f9829c",
   "metadata": {
    "tags": []
   },
   "source": [
    "## Level 3: More Complex Functions."
   ]
  },
  {
   "cell_type": "markdown",
   "id": "b0257966-4bbf-4313-b3e3-569e034490d8",
   "metadata": {},
   "source": [
    "1- Write a function that takes a list of numbers and returns a new list containing only the even numbers from the original list."
   ]
  },
  {
   "cell_type": "code",
   "execution_count": null,
   "id": "a453a287-1256-41f4-bf15-c23ecb6ea1e0",
   "metadata": {},
   "outputs": [],
   "source": []
  },
  {
   "cell_type": "markdown",
   "id": "49023984-038f-4b34-846e-44d772b0c8a7",
   "metadata": {},
   "source": [
    "2- Write a function that takes two lists of numbers and returns a new list containing the difference of the two lists (elements that appear in the first list but not in the second)."
   ]
  },
  {
   "cell_type": "code",
   "execution_count": null,
   "id": "cc1c6dc4-b1a8-48ed-9ea3-ce911f1396e1",
   "metadata": {},
   "outputs": [],
   "source": []
  },
  {
   "cell_type": "markdown",
   "id": "6f2cb192-69c3-48b5-a74e-1e3b57a22381",
   "metadata": {},
   "source": [
    "3- Write a function that takes the initial position vector ,the initial velocity vector ,the acceleration vector of an object in two-dimensional space and time t after which its final position is to be calculated using the formula $\\boldsymbol{x_f = x_i + v_i*t + 0.5*a*t^2}$."
   ]
  },
  {
   "cell_type": "code",
   "execution_count": null,
   "id": "a407199a-e7f2-4bdd-a73f-6d5696e142a2",
   "metadata": {},
   "outputs": [],
   "source": []
  },
  {
   "cell_type": "markdown",
   "id": "8c96d7d6-a2d6-4f57-854a-fb9132a3a5d0",
   "metadata": {},
   "source": [
    "4- Write a function that takes a list of strings and returns a new list where each string is reversed."
   ]
  },
  {
   "cell_type": "code",
   "execution_count": null,
   "id": "a25ea77d-0928-4648-96eb-d801b7b2af47",
   "metadata": {},
   "outputs": [],
   "source": []
  }
 ],
 "metadata": {
  "kernelspec": {
   "display_name": "Python 3 (ipykernel)",
   "language": "python",
   "name": "python3"
  },
  "language_info": {
   "codemirror_mode": {
    "name": "ipython",
    "version": 3
   },
   "file_extension": ".py",
   "mimetype": "text/x-python",
   "name": "python",
   "nbconvert_exporter": "python",
   "pygments_lexer": "ipython3",
   "version": "3.10.9"
  }
 },
 "nbformat": 4,
 "nbformat_minor": 5
}
