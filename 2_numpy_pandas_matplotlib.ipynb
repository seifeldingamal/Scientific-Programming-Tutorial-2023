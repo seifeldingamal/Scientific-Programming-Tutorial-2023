{
 "cells": [
  {
   "cell_type": "markdown",
   "id": "af28b3cd-e741-49af-ad2d-b65c1aff2c55",
   "metadata": {
    "tags": []
   },
   "source": [
    "# Fundamentals of Scientific Programming: Numpy, Pandas and Matplotlib"
   ]
  },
  {
   "cell_type": "markdown",
   "id": "c27498d0-25cf-44f8-a43a-0df4df6a3218",
   "metadata": {
    "id": "0vJLt3JRL9eR"
   },
   "source": [
    "This tutorial is written by [Seifeldin Abouelella](https://github.com/seifeldingamal) for EE_2.06."
   ]
  },
  {
   "cell_type": "markdown",
   "id": "862f3165-4539-45c7-855a-1dd32e6b41b4",
   "metadata": {
    "tags": []
   },
   "source": [
    "## Introduction"
   ]
  },
  {
   "cell_type": "markdown",
   "id": "cd9b12e5-de50-4524-a557-6d5cc81f2188",
   "metadata": {},
   "source": [
    "Python has very powerful libiraries that can be used to make scientific programming easier and more efficient <br>\n",
    "some of these libraries are:\n",
    "- Numpy.\n",
    "- Pandas.\n",
    "- Matplotlib.\n",
    "- SciPy.\n",
    "- PyTourch.\n",
    "- Tensorflow."
   ]
  },
  {
   "cell_type": "markdown",
   "id": "3cbea533-9948-4a30-9e12-df3260cb10ed",
   "metadata": {},
   "source": [
    "To use any library you need to `import` it to your script before using it.<br>\n",
    "Examples:\n",
    "1. \n",
    "```python \n",
    "import numpy\n",
    "```\n",
    "2. \n",
    "```python \n",
    "import numpy as np\n",
    "```\n",
    "3. \n",
    "```python \n",
    "from numpy import arange\n",
    "```"
   ]
  },
  {
   "cell_type": "markdown",
   "id": "7dc30916-10a9-4e87-bb58-6f500abf166e",
   "metadata": {},
   "source": [
    "The difference between these examples are as follow:\n",
    "- In 1, you load the **whole** libirary, that can make your script initiate in a *slow* matter but for our case, optimization is not essential to that extend. Not yet!\n",
    "- In 2, you load the **whole** libirary again but with a *different name* that you establish.\n",
    "- In 3, you load **only** the methods that you define after import, in that case, its only arange."
   ]
  },
  {
   "cell_type": "markdown",
   "id": "9303a607-9ca2-463c-8355-b24cdee9f65e",
   "metadata": {
    "tags": []
   },
   "source": [
    "## List of Content"
   ]
  },
  {
   "cell_type": "markdown",
   "id": "3d623efa-f67d-4ba6-af3c-e2f197ec8cf6",
   "metadata": {},
   "source": [
    "1. **Numpy library.**\n",
    "    - Introduction to Numpy.\n",
    "    - Numpy arrays.\n",
    "    - Array indexing and slicing.\n",
    "    - Array operations.\n",
    "    - Broadcasting.\n",
    "    - Array manipulation.\n",
    "2. **Pandas library.**\n",
    "    - Introduction to Pandas.\n",
    "    - Reading Data.\n",
    "    - DataFrames and Series.\n",
    "    - Data selection and filtering.\n",
    "    - Data cleaning and preparation.\n",
    "    - Data aggregation and grouping.\n",
    "3. **Mathplotlib library.**\n",
    "    - Introduction to Mathplotlib.\n",
    "    - Basic plots.\n",
    "    - Advanced plots."
   ]
  },
  {
   "cell_type": "markdown",
   "id": "f389b9e5-9b7c-4dda-8335-bcd1b8e6e0da",
   "metadata": {
    "tags": []
   },
   "source": [
    "## 1. Numpy library"
   ]
  },
  {
   "cell_type": "markdown",
   "id": "865719ce-039e-49a9-9491-215fe2e07fc4",
   "metadata": {},
   "source": [
    "### - Introduction to Numpy"
   ]
  },
  {
   "cell_type": "markdown",
   "id": "d4652aa0-0b07-49ca-ab4b-3af01451b766",
   "metadata": {},
   "source": [
    "***Numpy*** is a Python library that stands for Numerical Python. It is a library consisting of multidimensional array objects and a collection of routines for processing those arrays."
   ]
  },
  {
   "cell_type": "markdown",
   "id": "d6396315-27a4-478c-8fa1-79221b52b5e0",
   "metadata": {},
   "source": [
    "Documentation can be found [***HERE***](https://numpy.org/doc/stable/user/absolute_beginners.html)"
   ]
  },
  {
   "cell_type": "markdown",
   "id": "07c7b426-d1d9-4b52-b4e9-4a5191f2518a",
   "metadata": {},
   "source": [
    "To use Numpy use the following `import`:\n",
    "```python\n",
    "import numpy as np\n",
    "```"
   ]
  },
  {
   "cell_type": "code",
   "execution_count": 1,
   "id": "bb9aeced-b5b5-4236-a28b-64c41478d2db",
   "metadata": {},
   "outputs": [],
   "source": [
    "import numpy as np"
   ]
  },
  {
   "cell_type": "markdown",
   "id": "fac87fe8-cfa4-4451-aa59-e0d0fcd12781",
   "metadata": {},
   "source": [
    "### - Numpy arrays"
   ]
  },
  {
   "cell_type": "code",
   "execution_count": 2,
   "id": "739fc05c-4e17-4848-ad23-fbdc2a776fe9",
   "metadata": {
    "tags": []
   },
   "outputs": [
    {
     "data": {
      "text/plain": [
       "array([1, 2, 3])"
      ]
     },
     "execution_count": 2,
     "metadata": {},
     "output_type": "execute_result"
    }
   ],
   "source": [
    "np.array([1, 2, 3]) # Just like a normal list but of type Numpy Array"
   ]
  },
  {
   "cell_type": "code",
   "execution_count": 3,
   "id": "475e0d03-f556-4539-b5c3-b173e478df56",
   "metadata": {},
   "outputs": [
    {
     "data": {
      "text/plain": [
       "array([[1, 2],\n",
       "       [3, 4]])"
      ]
     },
     "execution_count": 3,
     "metadata": {},
     "output_type": "execute_result"
    }
   ],
   "source": [
    "np.array([[1, 2], [3, 4]]) # 2D array 2x2"
   ]
  },
  {
   "cell_type": "code",
   "execution_count": 4,
   "id": "9d499bd7-3ab3-475c-ba9e-654113c7d000",
   "metadata": {},
   "outputs": [
    {
     "data": {
      "text/plain": [
       "array([[0., 0., 0.],\n",
       "       [0., 0., 0.]])"
      ]
     },
     "execution_count": 4,
     "metadata": {},
     "output_type": "execute_result"
    }
   ],
   "source": [
    "np.zeros((2, 3)) # 2D array of Zeros 2x3"
   ]
  },
  {
   "cell_type": "code",
   "execution_count": 5,
   "id": "9f9571d7-a0fd-4ccc-a628-16be09605854",
   "metadata": {},
   "outputs": [
    {
     "data": {
      "text/plain": [
       "array([[1., 1., 1.],\n",
       "       [1., 1., 1.]])"
      ]
     },
     "execution_count": 5,
     "metadata": {},
     "output_type": "execute_result"
    }
   ],
   "source": [
    "np.ones((2, 3)) # 2D array of Ones 2x3"
   ]
  },
  {
   "cell_type": "code",
   "execution_count": 6,
   "id": "3b87f81d-5f8f-4d69-9c88-0524347423e4",
   "metadata": {},
   "outputs": [
    {
     "data": {
      "text/plain": [
       "array([[0.20500814, 0.71974858, 0.58743206],\n",
       "       [0.82006315, 0.27890795, 0.83313223]])"
      ]
     },
     "execution_count": 6,
     "metadata": {},
     "output_type": "execute_result"
    }
   ],
   "source": [
    "np.random.rand(2, 3) # 2D array of random values 2x3"
   ]
  },
  {
   "cell_type": "code",
   "execution_count": 7,
   "id": "622dae70-eb8e-44f0-950e-0e0eb76f3db1",
   "metadata": {},
   "outputs": [
    {
     "data": {
      "text/plain": [
       "array([[5, 5, 5],\n",
       "       [5, 5, 5],\n",
       "       [5, 5, 5]])"
      ]
     },
     "execution_count": 7,
     "metadata": {},
     "output_type": "execute_result"
    }
   ],
   "source": [
    "np.full((3,3), fill_value=5) # 2D array full of the value 5 3x3"
   ]
  },
  {
   "cell_type": "code",
   "execution_count": 8,
   "id": "a0b8fd75-1610-4dba-a744-2c206d832d40",
   "metadata": {},
   "outputs": [
    {
     "data": {
      "text/plain": [
       "array([[1., 0., 0.],\n",
       "       [0., 1., 0.],\n",
       "       [0., 0., 1.]])"
      ]
     },
     "execution_count": 8,
     "metadata": {},
     "output_type": "execute_result"
    }
   ],
   "source": [
    "np.eye(3) # Identity matrix based on the input number"
   ]
  },
  {
   "cell_type": "code",
   "execution_count": 9,
   "id": "2f80ca5c-4c19-49bc-8793-e5832a6edff3",
   "metadata": {},
   "outputs": [
    {
     "data": {
      "text/plain": [
       "array([[1, 0, 0],\n",
       "       [0, 2, 0],\n",
       "       [0, 0, 3]])"
      ]
     },
     "execution_count": 9,
     "metadata": {},
     "output_type": "execute_result"
    }
   ],
   "source": [
    "np.diag([1,2,3]) # Diagonal matrix using the values given"
   ]
  },
  {
   "cell_type": "code",
   "execution_count": 10,
   "id": "6917f10d-ed8f-4d77-b1f6-906ec9ecd15a",
   "metadata": {},
   "outputs": [
    {
     "data": {
      "text/plain": [
       "array([0, 2, 4, 6, 8])"
      ]
     },
     "execution_count": 10,
     "metadata": {},
     "output_type": "execute_result"
    }
   ],
   "source": [
    "np.arange(0, 10, 2) # values between 0 and 10 where the space is equal to 2"
   ]
  },
  {
   "cell_type": "code",
   "execution_count": 11,
   "id": "4367d07c-5c8c-4211-b039-cdb26f78d2b6",
   "metadata": {},
   "outputs": [
    {
     "data": {
      "text/plain": [
       "array([ 0. ,  2.5,  5. ,  7.5, 10. ])"
      ]
     },
     "execution_count": 11,
     "metadata": {},
     "output_type": "execute_result"
    }
   ],
   "source": [
    "np.linspace(0, 10, num=5) # linearly spaced values between 0 and 10 where the number of values is 5"
   ]
  },
  {
   "cell_type": "markdown",
   "id": "43831676-45c6-4f47-99cd-661ce9647e86",
   "metadata": {},
   "source": [
    "### - Array indexing and slicing"
   ]
  },
  {
   "cell_type": "code",
   "execution_count": 12,
   "id": "fe9a15c9-8254-4533-9c59-7d256dcfe0a7",
   "metadata": {},
   "outputs": [],
   "source": [
    "a = np.array([1, 2, 3])\n",
    "b = np.array([[1, 2], [3, 4]])"
   ]
  },
  {
   "cell_type": "code",
   "execution_count": 13,
   "id": "a93f1bf4-ba04-4da1-a605-8025417c8ca0",
   "metadata": {},
   "outputs": [
    {
     "data": {
      "text/plain": [
       "1"
      ]
     },
     "execution_count": 13,
     "metadata": {},
     "output_type": "execute_result"
    }
   ],
   "source": [
    "a[0] # returns the first element of the list a"
   ]
  },
  {
   "cell_type": "code",
   "execution_count": 14,
   "id": "a05db38a-984d-43a6-9b58-9151996d1a66",
   "metadata": {},
   "outputs": [
    {
     "data": {
      "text/plain": [
       "array([2, 3])"
      ]
     },
     "execution_count": 14,
     "metadata": {},
     "output_type": "execute_result"
    }
   ],
   "source": [
    "a[1:] # returns elements from the second index until the end of the list a"
   ]
  },
  {
   "cell_type": "code",
   "execution_count": 15,
   "id": "c5124f40-9d03-42f9-b20e-c22724451384",
   "metadata": {},
   "outputs": [
    {
     "data": {
      "text/plain": [
       "1"
      ]
     },
     "execution_count": 15,
     "metadata": {},
     "output_type": "execute_result"
    }
   ],
   "source": [
    "b[0][0] # returns the first element of position 1 in row 1 and position 1 in column 1"
   ]
  },
  {
   "cell_type": "code",
   "execution_count": 16,
   "id": "59037b4f-3b5c-4957-9185-427a2ff5523f",
   "metadata": {},
   "outputs": [
    {
     "data": {
      "text/plain": [
       "array([1, 3])"
      ]
     },
     "execution_count": 16,
     "metadata": {},
     "output_type": "execute_result"
    }
   ],
   "source": [
    "b[:, 0] # returns everything in row of position 1"
   ]
  },
  {
   "cell_type": "markdown",
   "id": "91c480aa-e220-4b09-9740-e8b6e96d6b5f",
   "metadata": {},
   "source": [
    "### - Array operations"
   ]
  },
  {
   "cell_type": "code",
   "execution_count": 17,
   "id": "1cfa3f9d-86dd-438e-bdf4-d8b02303da37",
   "metadata": {},
   "outputs": [
    {
     "data": {
      "text/plain": [
       "array([3, 4, 5])"
      ]
     },
     "execution_count": 17,
     "metadata": {},
     "output_type": "execute_result"
    }
   ],
   "source": [
    "a + 2 # returns [3, 4, 5]"
   ]
  },
  {
   "cell_type": "code",
   "execution_count": 18,
   "id": "0863d79a-a7d7-4dab-a9ed-bf46712414ca",
   "metadata": {},
   "outputs": [
    {
     "data": {
      "text/plain": [
       "array([2, 4, 6])"
      ]
     },
     "execution_count": 18,
     "metadata": {},
     "output_type": "execute_result"
    }
   ],
   "source": [
    "a * 2 # returns [2, 4, 6]"
   ]
  },
  {
   "cell_type": "code",
   "execution_count": 19,
   "id": "9afc2384-59c9-46fe-bce5-ea3cf22d384c",
   "metadata": {},
   "outputs": [
    {
     "data": {
      "text/plain": [
       "14"
      ]
     },
     "execution_count": 19,
     "metadata": {},
     "output_type": "execute_result"
    }
   ],
   "source": [
    "np.dot(a, a) # returns 14 which is the dot product of a.a"
   ]
  },
  {
   "cell_type": "markdown",
   "id": "af4d4feb-ec2b-4e52-87ee-b58a498f65fd",
   "metadata": {},
   "source": [
    "### - Broadcasting"
   ]
  },
  {
   "cell_type": "code",
   "execution_count": 20,
   "id": "f10ebf94-caba-4337-919d-f22a7d7685cb",
   "metadata": {},
   "outputs": [
    {
     "data": {
      "text/plain": [
       "array([2, 4, 5])"
      ]
     },
     "execution_count": 20,
     "metadata": {},
     "output_type": "execute_result"
    }
   ],
   "source": [
    "a + np.array([1, 2, 2]) # uses 2 lists and do an operation on them element wise"
   ]
  },
  {
   "cell_type": "markdown",
   "id": "52fcac20-39bc-4036-8e4f-64b0c7d57bd9",
   "metadata": {},
   "source": [
    "### - Array manipulation"
   ]
  },
  {
   "cell_type": "code",
   "execution_count": 21,
   "id": "94cf795a-3d24-4738-a4ba-f4c69c903b3a",
   "metadata": {},
   "outputs": [
    {
     "data": {
      "text/plain": [
       "array([[1],\n",
       "       [2],\n",
       "       [3]])"
      ]
     },
     "execution_count": 21,
     "metadata": {},
     "output_type": "execute_result"
    }
   ],
   "source": [
    "np.reshape(a, (3, 1)) # changes the matrix shape of the matrix according to the input"
   ]
  },
  {
   "cell_type": "code",
   "execution_count": 22,
   "id": "c08cff39-81a5-48a1-9f47-6efe1ef2a2f2",
   "metadata": {},
   "outputs": [
    {
     "data": {
      "text/plain": [
       "array([[1, 2],\n",
       "       [3, 4],\n",
       "       [5, 6]])"
      ]
     },
     "execution_count": 22,
     "metadata": {},
     "output_type": "execute_result"
    }
   ],
   "source": [
    "a = np.array([[1, 2], [3, 4]])\n",
    "b = np.array([[5, 6]])\n",
    "\n",
    "np.concatenate((a, b), axis=0) # Simply adds 2 lists, the second as an extension of the first"
   ]
  },
  {
   "cell_type": "markdown",
   "id": "8ccf2e08-3bd9-4113-8532-2193731e372e",
   "metadata": {
    "tags": []
   },
   "source": [
    "## 2. Pandas library"
   ]
  },
  {
   "cell_type": "markdown",
   "id": "4e11b240-332e-4e30-bfe7-e95721d83ff3",
   "metadata": {},
   "source": [
    "### - Introduction to Pandas"
   ]
  },
  {
   "cell_type": "markdown",
   "id": "e3c8e06b-94be-4cd8-8539-507969115da1",
   "metadata": {},
   "source": [
    "***Pandas*** is a Python library that is used for data manipulation and analysis. It provides data structures for efficiently storing and manipulating large datasets."
   ]
  },
  {
   "cell_type": "markdown",
   "id": "800e5e8c-c547-4db3-bd8b-40833185aa8b",
   "metadata": {},
   "source": [
    "Documentation can be found [***HERE***](https://pandas.pydata.org/docs/getting_started/index.html#getting-started)"
   ]
  },
  {
   "cell_type": "markdown",
   "id": "2935a8d7-a9e8-42b2-a784-1a89f22cb8e9",
   "metadata": {},
   "source": [
    "To use Pandas use the following `import`:\n",
    "```python\n",
    "import pandas as pd\n",
    "```"
   ]
  },
  {
   "cell_type": "code",
   "execution_count": 23,
   "id": "e58de8fb-72c3-4c96-b528-66e0f1ba7876",
   "metadata": {},
   "outputs": [],
   "source": [
    "import pandas as pd"
   ]
  },
  {
   "cell_type": "markdown",
   "id": "5b74d578-e0d9-4a29-800d-bd202fcb826b",
   "metadata": {},
   "source": [
    "### - Reading Data"
   ]
  },
  {
   "cell_type": "code",
   "execution_count": 24,
   "id": "66ba16b5-e65e-40d5-967a-2b460f25e775",
   "metadata": {},
   "outputs": [
    {
     "data": {
      "text/html": [
       "<div>\n",
       "<style scoped>\n",
       "    .dataframe tbody tr th:only-of-type {\n",
       "        vertical-align: middle;\n",
       "    }\n",
       "\n",
       "    .dataframe tbody tr th {\n",
       "        vertical-align: top;\n",
       "    }\n",
       "\n",
       "    .dataframe thead th {\n",
       "        text-align: right;\n",
       "    }\n",
       "</style>\n",
       "<table border=\"1\" class=\"dataframe\">\n",
       "  <thead>\n",
       "    <tr style=\"text-align: right;\">\n",
       "      <th></th>\n",
       "      <th>#</th>\n",
       "      <th>Name</th>\n",
       "      <th>Type 1</th>\n",
       "      <th>Type 2</th>\n",
       "      <th>Total</th>\n",
       "      <th>HP</th>\n",
       "      <th>Attack</th>\n",
       "      <th>Defense</th>\n",
       "      <th>Sp. Atk</th>\n",
       "      <th>Sp. Def</th>\n",
       "      <th>Speed</th>\n",
       "      <th>Generation</th>\n",
       "      <th>Legendary</th>\n",
       "    </tr>\n",
       "  </thead>\n",
       "  <tbody>\n",
       "    <tr>\n",
       "      <th>0</th>\n",
       "      <td>1</td>\n",
       "      <td>Bulbasaur</td>\n",
       "      <td>Grass</td>\n",
       "      <td>Poison</td>\n",
       "      <td>318</td>\n",
       "      <td>45</td>\n",
       "      <td>49</td>\n",
       "      <td>49</td>\n",
       "      <td>65</td>\n",
       "      <td>65</td>\n",
       "      <td>45</td>\n",
       "      <td>1</td>\n",
       "      <td>False</td>\n",
       "    </tr>\n",
       "    <tr>\n",
       "      <th>1</th>\n",
       "      <td>2</td>\n",
       "      <td>Ivysaur</td>\n",
       "      <td>Grass</td>\n",
       "      <td>Poison</td>\n",
       "      <td>405</td>\n",
       "      <td>60</td>\n",
       "      <td>62</td>\n",
       "      <td>63</td>\n",
       "      <td>80</td>\n",
       "      <td>80</td>\n",
       "      <td>60</td>\n",
       "      <td>1</td>\n",
       "      <td>False</td>\n",
       "    </tr>\n",
       "    <tr>\n",
       "      <th>2</th>\n",
       "      <td>3</td>\n",
       "      <td>Venusaur</td>\n",
       "      <td>Grass</td>\n",
       "      <td>Poison</td>\n",
       "      <td>525</td>\n",
       "      <td>80</td>\n",
       "      <td>82</td>\n",
       "      <td>83</td>\n",
       "      <td>100</td>\n",
       "      <td>100</td>\n",
       "      <td>80</td>\n",
       "      <td>1</td>\n",
       "      <td>False</td>\n",
       "    </tr>\n",
       "    <tr>\n",
       "      <th>3</th>\n",
       "      <td>3</td>\n",
       "      <td>VenusaurMega Venusaur</td>\n",
       "      <td>Grass</td>\n",
       "      <td>Poison</td>\n",
       "      <td>625</td>\n",
       "      <td>80</td>\n",
       "      <td>100</td>\n",
       "      <td>123</td>\n",
       "      <td>122</td>\n",
       "      <td>120</td>\n",
       "      <td>80</td>\n",
       "      <td>1</td>\n",
       "      <td>False</td>\n",
       "    </tr>\n",
       "    <tr>\n",
       "      <th>4</th>\n",
       "      <td>4</td>\n",
       "      <td>Charmander</td>\n",
       "      <td>Fire</td>\n",
       "      <td>NaN</td>\n",
       "      <td>309</td>\n",
       "      <td>39</td>\n",
       "      <td>52</td>\n",
       "      <td>43</td>\n",
       "      <td>60</td>\n",
       "      <td>50</td>\n",
       "      <td>65</td>\n",
       "      <td>1</td>\n",
       "      <td>False</td>\n",
       "    </tr>\n",
       "    <tr>\n",
       "      <th>5</th>\n",
       "      <td>5</td>\n",
       "      <td>Charmeleon</td>\n",
       "      <td>Fire</td>\n",
       "      <td>NaN</td>\n",
       "      <td>405</td>\n",
       "      <td>58</td>\n",
       "      <td>64</td>\n",
       "      <td>58</td>\n",
       "      <td>80</td>\n",
       "      <td>65</td>\n",
       "      <td>80</td>\n",
       "      <td>1</td>\n",
       "      <td>False</td>\n",
       "    </tr>\n",
       "    <tr>\n",
       "      <th>6</th>\n",
       "      <td>6</td>\n",
       "      <td>Charizard</td>\n",
       "      <td>Fire</td>\n",
       "      <td>Flying</td>\n",
       "      <td>534</td>\n",
       "      <td>78</td>\n",
       "      <td>84</td>\n",
       "      <td>78</td>\n",
       "      <td>109</td>\n",
       "      <td>85</td>\n",
       "      <td>100</td>\n",
       "      <td>1</td>\n",
       "      <td>False</td>\n",
       "    </tr>\n",
       "    <tr>\n",
       "      <th>7</th>\n",
       "      <td>6</td>\n",
       "      <td>CharizardMega Charizard X</td>\n",
       "      <td>Fire</td>\n",
       "      <td>Dragon</td>\n",
       "      <td>634</td>\n",
       "      <td>78</td>\n",
       "      <td>130</td>\n",
       "      <td>111</td>\n",
       "      <td>130</td>\n",
       "      <td>85</td>\n",
       "      <td>100</td>\n",
       "      <td>1</td>\n",
       "      <td>False</td>\n",
       "    </tr>\n",
       "    <tr>\n",
       "      <th>8</th>\n",
       "      <td>6</td>\n",
       "      <td>CharizardMega Charizard Y</td>\n",
       "      <td>Fire</td>\n",
       "      <td>Flying</td>\n",
       "      <td>634</td>\n",
       "      <td>78</td>\n",
       "      <td>104</td>\n",
       "      <td>78</td>\n",
       "      <td>159</td>\n",
       "      <td>115</td>\n",
       "      <td>100</td>\n",
       "      <td>1</td>\n",
       "      <td>False</td>\n",
       "    </tr>\n",
       "    <tr>\n",
       "      <th>9</th>\n",
       "      <td>7</td>\n",
       "      <td>Squirtle</td>\n",
       "      <td>Water</td>\n",
       "      <td>NaN</td>\n",
       "      <td>314</td>\n",
       "      <td>44</td>\n",
       "      <td>48</td>\n",
       "      <td>65</td>\n",
       "      <td>50</td>\n",
       "      <td>64</td>\n",
       "      <td>43</td>\n",
       "      <td>1</td>\n",
       "      <td>False</td>\n",
       "    </tr>\n",
       "    <tr>\n",
       "      <th>10</th>\n",
       "      <td>8</td>\n",
       "      <td>Wartortle</td>\n",
       "      <td>Water</td>\n",
       "      <td>NaN</td>\n",
       "      <td>405</td>\n",
       "      <td>59</td>\n",
       "      <td>63</td>\n",
       "      <td>80</td>\n",
       "      <td>65</td>\n",
       "      <td>80</td>\n",
       "      <td>58</td>\n",
       "      <td>1</td>\n",
       "      <td>False</td>\n",
       "    </tr>\n",
       "    <tr>\n",
       "      <th>11</th>\n",
       "      <td>9</td>\n",
       "      <td>Blastoise</td>\n",
       "      <td>Water</td>\n",
       "      <td>NaN</td>\n",
       "      <td>530</td>\n",
       "      <td>79</td>\n",
       "      <td>83</td>\n",
       "      <td>100</td>\n",
       "      <td>85</td>\n",
       "      <td>105</td>\n",
       "      <td>78</td>\n",
       "      <td>1</td>\n",
       "      <td>False</td>\n",
       "    </tr>\n",
       "    <tr>\n",
       "      <th>12</th>\n",
       "      <td>9</td>\n",
       "      <td>BlastoiseMega Blastoise</td>\n",
       "      <td>Water</td>\n",
       "      <td>NaN</td>\n",
       "      <td>630</td>\n",
       "      <td>79</td>\n",
       "      <td>103</td>\n",
       "      <td>120</td>\n",
       "      <td>135</td>\n",
       "      <td>115</td>\n",
       "      <td>78</td>\n",
       "      <td>1</td>\n",
       "      <td>False</td>\n",
       "    </tr>\n",
       "  </tbody>\n",
       "</table>\n",
       "</div>"
      ],
      "text/plain": [
       "    #                       Name Type 1  Type 2  Total  HP  Attack  Defense  \\\n",
       "0   1                  Bulbasaur  Grass  Poison    318  45      49       49   \n",
       "1   2                    Ivysaur  Grass  Poison    405  60      62       63   \n",
       "2   3                   Venusaur  Grass  Poison    525  80      82       83   \n",
       "3   3      VenusaurMega Venusaur  Grass  Poison    625  80     100      123   \n",
       "4   4                 Charmander   Fire     NaN    309  39      52       43   \n",
       "5   5                 Charmeleon   Fire     NaN    405  58      64       58   \n",
       "6   6                  Charizard   Fire  Flying    534  78      84       78   \n",
       "7   6  CharizardMega Charizard X   Fire  Dragon    634  78     130      111   \n",
       "8   6  CharizardMega Charizard Y   Fire  Flying    634  78     104       78   \n",
       "9   7                   Squirtle  Water     NaN    314  44      48       65   \n",
       "10  8                  Wartortle  Water     NaN    405  59      63       80   \n",
       "11  9                  Blastoise  Water     NaN    530  79      83      100   \n",
       "12  9    BlastoiseMega Blastoise  Water     NaN    630  79     103      120   \n",
       "\n",
       "    Sp. Atk  Sp. Def  Speed  Generation  Legendary  \n",
       "0        65       65     45           1      False  \n",
       "1        80       80     60           1      False  \n",
       "2       100      100     80           1      False  \n",
       "3       122      120     80           1      False  \n",
       "4        60       50     65           1      False  \n",
       "5        80       65     80           1      False  \n",
       "6       109       85    100           1      False  \n",
       "7       130       85    100           1      False  \n",
       "8       159      115    100           1      False  \n",
       "9        50       64     43           1      False  \n",
       "10       65       80     58           1      False  \n",
       "11       85      105     78           1      False  \n",
       "12      135      115     78           1      False  "
      ]
     },
     "execution_count": 24,
     "metadata": {},
     "output_type": "execute_result"
    }
   ],
   "source": [
    "pokemon = pd.read_csv('./assets/pokemon.csv') # reading the file pokemon.csv from folder assets as a Dataframe\n",
    "pokemon.head(13)"
   ]
  },
  {
   "cell_type": "markdown",
   "id": "46191ab7-827e-45ab-8c66-0643c8268b76",
   "metadata": {},
   "source": [
    "### - DataFrames and Series"
   ]
  },
  {
   "cell_type": "code",
   "execution_count": 25,
   "id": "77f9083a-976b-41aa-a360-23c753a61840",
   "metadata": {},
   "outputs": [
    {
     "data": {
      "text/html": [
       "<div>\n",
       "<style scoped>\n",
       "    .dataframe tbody tr th:only-of-type {\n",
       "        vertical-align: middle;\n",
       "    }\n",
       "\n",
       "    .dataframe tbody tr th {\n",
       "        vertical-align: top;\n",
       "    }\n",
       "\n",
       "    .dataframe thead th {\n",
       "        text-align: right;\n",
       "    }\n",
       "</style>\n",
       "<table border=\"1\" class=\"dataframe\">\n",
       "  <thead>\n",
       "    <tr style=\"text-align: right;\">\n",
       "      <th></th>\n",
       "      <th>name</th>\n",
       "      <th>age</th>\n",
       "    </tr>\n",
       "  </thead>\n",
       "  <tbody>\n",
       "    <tr>\n",
       "      <th>0</th>\n",
       "      <td>Jeff</td>\n",
       "      <td>25.0</td>\n",
       "    </tr>\n",
       "    <tr>\n",
       "      <th>1</th>\n",
       "      <td>Bob</td>\n",
       "      <td>30.0</td>\n",
       "    </tr>\n",
       "    <tr>\n",
       "      <th>2</th>\n",
       "      <td>Elena</td>\n",
       "      <td>30.0</td>\n",
       "    </tr>\n",
       "    <tr>\n",
       "      <th>3</th>\n",
       "      <td>Olive</td>\n",
       "      <td>NaN</td>\n",
       "    </tr>\n",
       "  </tbody>\n",
       "</table>\n",
       "</div>"
      ],
      "text/plain": [
       "    name   age\n",
       "0   Jeff  25.0\n",
       "1    Bob  30.0\n",
       "2  Elena  30.0\n",
       "3  Olive   NaN"
      ]
     },
     "execution_count": 25,
     "metadata": {},
     "output_type": "execute_result"
    }
   ],
   "source": [
    "df = pd.DataFrame({'name': ['Jeff', 'Bob', 'Elena', 'Olive'], 'age': [25, 30, 30, None]}) # Dataframe initialization\n",
    "df"
   ]
  },
  {
   "cell_type": "code",
   "execution_count": 26,
   "id": "78ff308f-eaba-4c35-85af-20d87bb4d8f3",
   "metadata": {},
   "outputs": [
    {
     "data": {
      "text/plain": [
       "0    1\n",
       "1    3\n",
       "2    5\n",
       "dtype: int64"
      ]
     },
     "execution_count": 26,
     "metadata": {},
     "output_type": "execute_result"
    }
   ],
   "source": [
    "s = pd.Series([1, 3, 5]) # Series initialization\n",
    "s"
   ]
  },
  {
   "cell_type": "code",
   "execution_count": 27,
   "id": "88887f17-dff2-4cb4-b277-9252e0fbd274",
   "metadata": {},
   "outputs": [
    {
     "data": {
      "text/html": [
       "<div>\n",
       "<style scoped>\n",
       "    .dataframe tbody tr th:only-of-type {\n",
       "        vertical-align: middle;\n",
       "    }\n",
       "\n",
       "    .dataframe tbody tr th {\n",
       "        vertical-align: top;\n",
       "    }\n",
       "\n",
       "    .dataframe thead th {\n",
       "        text-align: right;\n",
       "    }\n",
       "</style>\n",
       "<table border=\"1\" class=\"dataframe\">\n",
       "  <thead>\n",
       "    <tr style=\"text-align: right;\">\n",
       "      <th></th>\n",
       "      <th>name</th>\n",
       "      <th>age</th>\n",
       "    </tr>\n",
       "  </thead>\n",
       "  <tbody>\n",
       "    <tr>\n",
       "      <th>0</th>\n",
       "      <td>Jeff</td>\n",
       "      <td>25.0</td>\n",
       "    </tr>\n",
       "  </tbody>\n",
       "</table>\n",
       "</div>"
      ],
      "text/plain": [
       "   name   age\n",
       "0  Jeff  25.0"
      ]
     },
     "execution_count": 27,
     "metadata": {},
     "output_type": "execute_result"
    }
   ],
   "source": [
    "df.head(1) # shows the first *given* rows of the DataFrame df. (5 if no values given)"
   ]
  },
  {
   "cell_type": "code",
   "execution_count": 28,
   "id": "f5c2017f-2fb5-41fa-aa74-8ee58709b0c9",
   "metadata": {},
   "outputs": [
    {
     "data": {
      "text/html": [
       "<div>\n",
       "<style scoped>\n",
       "    .dataframe tbody tr th:only-of-type {\n",
       "        vertical-align: middle;\n",
       "    }\n",
       "\n",
       "    .dataframe tbody tr th {\n",
       "        vertical-align: top;\n",
       "    }\n",
       "\n",
       "    .dataframe thead th {\n",
       "        text-align: right;\n",
       "    }\n",
       "</style>\n",
       "<table border=\"1\" class=\"dataframe\">\n",
       "  <thead>\n",
       "    <tr style=\"text-align: right;\">\n",
       "      <th></th>\n",
       "      <th>name</th>\n",
       "      <th>age</th>\n",
       "    </tr>\n",
       "  </thead>\n",
       "  <tbody>\n",
       "    <tr>\n",
       "      <th>3</th>\n",
       "      <td>Olive</td>\n",
       "      <td>NaN</td>\n",
       "    </tr>\n",
       "  </tbody>\n",
       "</table>\n",
       "</div>"
      ],
      "text/plain": [
       "    name  age\n",
       "3  Olive  NaN"
      ]
     },
     "execution_count": 28,
     "metadata": {},
     "output_type": "execute_result"
    }
   ],
   "source": [
    "df.tail(1) # shows the last *given* rows of the DataFrame df. (5 if no values given)"
   ]
  },
  {
   "cell_type": "code",
   "execution_count": 29,
   "id": "1bbfe3f8-17dc-446b-897a-402e36cad83f",
   "metadata": {},
   "outputs": [
    {
     "data": {
      "text/plain": [
       "count    3.0\n",
       "mean     3.0\n",
       "std      2.0\n",
       "min      1.0\n",
       "25%      2.0\n",
       "50%      3.0\n",
       "75%      4.0\n",
       "max      5.0\n",
       "dtype: float64"
      ]
     },
     "execution_count": 29,
     "metadata": {},
     "output_type": "execute_result"
    }
   ],
   "source": [
    "s.describe() # shows the summary statistics of the Series s."
   ]
  },
  {
   "cell_type": "markdown",
   "id": "18ec9936-a115-4154-8a61-63bae1f3d4c4",
   "metadata": {},
   "source": [
    "### - Data selection and filtering"
   ]
  },
  {
   "cell_type": "code",
   "execution_count": 30,
   "id": "713777f7-e067-4b0e-95e0-51b5786d437e",
   "metadata": {},
   "outputs": [
    {
     "data": {
      "text/html": [
       "<div>\n",
       "<style scoped>\n",
       "    .dataframe tbody tr th:only-of-type {\n",
       "        vertical-align: middle;\n",
       "    }\n",
       "\n",
       "    .dataframe tbody tr th {\n",
       "        vertical-align: top;\n",
       "    }\n",
       "\n",
       "    .dataframe thead th {\n",
       "        text-align: right;\n",
       "    }\n",
       "</style>\n",
       "<table border=\"1\" class=\"dataframe\">\n",
       "  <thead>\n",
       "    <tr style=\"text-align: right;\">\n",
       "      <th></th>\n",
       "      <th>name</th>\n",
       "      <th>age</th>\n",
       "    </tr>\n",
       "  </thead>\n",
       "  <tbody>\n",
       "    <tr>\n",
       "      <th>1</th>\n",
       "      <td>Bob</td>\n",
       "      <td>30.0</td>\n",
       "    </tr>\n",
       "    <tr>\n",
       "      <th>2</th>\n",
       "      <td>Elena</td>\n",
       "      <td>30.0</td>\n",
       "    </tr>\n",
       "  </tbody>\n",
       "</table>\n",
       "</div>"
      ],
      "text/plain": [
       "    name   age\n",
       "1    Bob  30.0\n",
       "2  Elena  30.0"
      ]
     },
     "execution_count": 30,
     "metadata": {},
     "output_type": "execute_result"
    }
   ],
   "source": [
    "df[df['age'] > 25] # returns all rows that have age values greater than 25 of Dataframe df"
   ]
  },
  {
   "cell_type": "code",
   "execution_count": 31,
   "id": "c8ce254f-e6e5-4d81-9dd6-eb11b7507472",
   "metadata": {},
   "outputs": [
    {
     "data": {
      "text/plain": [
       "0    1\n",
       "dtype: int64"
      ]
     },
     "execution_count": 31,
     "metadata": {},
     "output_type": "execute_result"
    }
   ],
   "source": [
    "s[s < 2] # returns all values less than 2 of Dataframe df"
   ]
  },
  {
   "cell_type": "markdown",
   "id": "d13f3ee2-b108-49f7-896d-c4dd71079c6f",
   "metadata": {},
   "source": [
    "### - Data cleaning and preparation"
   ]
  },
  {
   "cell_type": "code",
   "execution_count": 32,
   "id": "8e6710bb-9892-4bf5-b3e8-791749cda0e5",
   "metadata": {},
   "outputs": [
    {
     "data": {
      "text/html": [
       "<div>\n",
       "<style scoped>\n",
       "    .dataframe tbody tr th:only-of-type {\n",
       "        vertical-align: middle;\n",
       "    }\n",
       "\n",
       "    .dataframe tbody tr th {\n",
       "        vertical-align: top;\n",
       "    }\n",
       "\n",
       "    .dataframe thead th {\n",
       "        text-align: right;\n",
       "    }\n",
       "</style>\n",
       "<table border=\"1\" class=\"dataframe\">\n",
       "  <thead>\n",
       "    <tr style=\"text-align: right;\">\n",
       "      <th></th>\n",
       "      <th>name</th>\n",
       "      <th>age</th>\n",
       "    </tr>\n",
       "  </thead>\n",
       "  <tbody>\n",
       "    <tr>\n",
       "      <th>0</th>\n",
       "      <td>Jeff</td>\n",
       "      <td>25.0</td>\n",
       "    </tr>\n",
       "    <tr>\n",
       "      <th>1</th>\n",
       "      <td>Bob</td>\n",
       "      <td>30.0</td>\n",
       "    </tr>\n",
       "    <tr>\n",
       "      <th>2</th>\n",
       "      <td>Elena</td>\n",
       "      <td>30.0</td>\n",
       "    </tr>\n",
       "  </tbody>\n",
       "</table>\n",
       "</div>"
      ],
      "text/plain": [
       "    name   age\n",
       "0   Jeff  25.0\n",
       "1    Bob  30.0\n",
       "2  Elena  30.0"
      ]
     },
     "execution_count": 32,
     "metadata": {},
     "output_type": "execute_result"
    }
   ],
   "source": [
    "df.dropna() # removes rows with Not a Number values in the DataFrame df."
   ]
  },
  {
   "cell_type": "code",
   "execution_count": 33,
   "id": "8639c6ab-68ba-4cc8-b2c9-dcd19d6b4da9",
   "metadata": {},
   "outputs": [
    {
     "data": {
      "text/html": [
       "<div>\n",
       "<style scoped>\n",
       "    .dataframe tbody tr th:only-of-type {\n",
       "        vertical-align: middle;\n",
       "    }\n",
       "\n",
       "    .dataframe tbody tr th {\n",
       "        vertical-align: top;\n",
       "    }\n",
       "\n",
       "    .dataframe thead th {\n",
       "        text-align: right;\n",
       "    }\n",
       "</style>\n",
       "<table border=\"1\" class=\"dataframe\">\n",
       "  <thead>\n",
       "    <tr style=\"text-align: right;\">\n",
       "      <th></th>\n",
       "      <th>name</th>\n",
       "      <th>age</th>\n",
       "    </tr>\n",
       "  </thead>\n",
       "  <tbody>\n",
       "    <tr>\n",
       "      <th>0</th>\n",
       "      <td>Jeff</td>\n",
       "      <td>25.0</td>\n",
       "    </tr>\n",
       "    <tr>\n",
       "      <th>1</th>\n",
       "      <td>Bob</td>\n",
       "      <td>30.0</td>\n",
       "    </tr>\n",
       "    <tr>\n",
       "      <th>2</th>\n",
       "      <td>Elena</td>\n",
       "      <td>30.0</td>\n",
       "    </tr>\n",
       "    <tr>\n",
       "      <th>3</th>\n",
       "      <td>Olive</td>\n",
       "      <td>25.0</td>\n",
       "    </tr>\n",
       "  </tbody>\n",
       "</table>\n",
       "</div>"
      ],
      "text/plain": [
       "    name   age\n",
       "0   Jeff  25.0\n",
       "1    Bob  30.0\n",
       "2  Elena  30.0\n",
       "3  Olive  25.0"
      ]
     },
     "execution_count": 33,
     "metadata": {},
     "output_type": "execute_result"
    }
   ],
   "source": [
    "df.fillna(25) # replaces Not a Number values with zeros in the DataFrame df."
   ]
  },
  {
   "cell_type": "code",
   "execution_count": 34,
   "id": "42f35e7c-10b6-48db-8327-2f0be0df3aed",
   "metadata": {},
   "outputs": [
    {
     "data": {
      "text/html": [
       "<div>\n",
       "<style scoped>\n",
       "    .dataframe tbody tr th:only-of-type {\n",
       "        vertical-align: middle;\n",
       "    }\n",
       "\n",
       "    .dataframe tbody tr th {\n",
       "        vertical-align: top;\n",
       "    }\n",
       "\n",
       "    .dataframe thead th {\n",
       "        text-align: right;\n",
       "    }\n",
       "</style>\n",
       "<table border=\"1\" class=\"dataframe\">\n",
       "  <thead>\n",
       "    <tr style=\"text-align: right;\">\n",
       "      <th></th>\n",
       "      <th>name</th>\n",
       "      <th>age</th>\n",
       "    </tr>\n",
       "  </thead>\n",
       "  <tbody>\n",
       "    <tr>\n",
       "      <th>0</th>\n",
       "      <td>Jeff</td>\n",
       "      <td>25.0</td>\n",
       "    </tr>\n",
       "    <tr>\n",
       "      <th>1</th>\n",
       "      <td>Bobby</td>\n",
       "      <td>30.0</td>\n",
       "    </tr>\n",
       "    <tr>\n",
       "      <th>2</th>\n",
       "      <td>Elena</td>\n",
       "      <td>30.0</td>\n",
       "    </tr>\n",
       "    <tr>\n",
       "      <th>3</th>\n",
       "      <td>Olive</td>\n",
       "      <td>NaN</td>\n",
       "    </tr>\n",
       "  </tbody>\n",
       "</table>\n",
       "</div>"
      ],
      "text/plain": [
       "    name   age\n",
       "0   Jeff  25.0\n",
       "1  Bobby  30.0\n",
       "2  Elena  30.0\n",
       "3  Olive   NaN"
      ]
     },
     "execution_count": 34,
     "metadata": {},
     "output_type": "execute_result"
    }
   ],
   "source": [
    "df.replace('Bob', 'Bobby') # replaces all occurrences of 'Bob' with 'Bobby' in the DataFrame df."
   ]
  },
  {
   "cell_type": "markdown",
   "id": "b9958825-a41d-44be-b200-f0230b0778a0",
   "metadata": {},
   "source": [
    "### - Data aggregation and grouping"
   ]
  },
  {
   "cell_type": "code",
   "execution_count": 35,
   "id": "846bca85-ecf0-4866-b957-5b9b2834ff39",
   "metadata": {},
   "outputs": [
    {
     "data": {
      "text/html": [
       "<div>\n",
       "<style scoped>\n",
       "    .dataframe tbody tr th:only-of-type {\n",
       "        vertical-align: middle;\n",
       "    }\n",
       "\n",
       "    .dataframe tbody tr th {\n",
       "        vertical-align: top;\n",
       "    }\n",
       "\n",
       "    .dataframe thead th {\n",
       "        text-align: right;\n",
       "    }\n",
       "</style>\n",
       "<table border=\"1\" class=\"dataframe\">\n",
       "  <thead>\n",
       "    <tr style=\"text-align: right;\">\n",
       "      <th></th>\n",
       "      <th>Name</th>\n",
       "      <th>Gender</th>\n",
       "      <th>Age</th>\n",
       "      <th>City</th>\n",
       "      <th>Salary</th>\n",
       "    </tr>\n",
       "  </thead>\n",
       "  <tbody>\n",
       "    <tr>\n",
       "      <th>0</th>\n",
       "      <td>Jeff</td>\n",
       "      <td>M</td>\n",
       "      <td>25</td>\n",
       "      <td>New York</td>\n",
       "      <td>50000</td>\n",
       "    </tr>\n",
       "    <tr>\n",
       "      <th>1</th>\n",
       "      <td>Bob</td>\n",
       "      <td>M</td>\n",
       "      <td>32</td>\n",
       "      <td>Paris</td>\n",
       "      <td>80000</td>\n",
       "    </tr>\n",
       "    <tr>\n",
       "      <th>2</th>\n",
       "      <td>Elena</td>\n",
       "      <td>F</td>\n",
       "      <td>18</td>\n",
       "      <td>London</td>\n",
       "      <td>20000</td>\n",
       "    </tr>\n",
       "    <tr>\n",
       "      <th>3</th>\n",
       "      <td>Olive</td>\n",
       "      <td>F</td>\n",
       "      <td>47</td>\n",
       "      <td>Paris</td>\n",
       "      <td>100000</td>\n",
       "    </tr>\n",
       "    <tr>\n",
       "      <th>4</th>\n",
       "      <td>Maria</td>\n",
       "      <td>F</td>\n",
       "      <td>36</td>\n",
       "      <td>London</td>\n",
       "      <td>25000</td>\n",
       "    </tr>\n",
       "  </tbody>\n",
       "</table>\n",
       "</div>"
      ],
      "text/plain": [
       "    Name Gender  Age      City  Salary\n",
       "0   Jeff      M   25  New York   50000\n",
       "1    Bob      M   32     Paris   80000\n",
       "2  Elena      F   18    London   20000\n",
       "3  Olive      F   47     Paris  100000\n",
       "4  Maria      F   36    London   25000"
      ]
     },
     "execution_count": 35,
     "metadata": {},
     "output_type": "execute_result"
    }
   ],
   "source": [
    "df = pd.DataFrame({\n",
    "    'Name': ['Jeff', 'Bob', 'Elena', 'Olive', 'Maria'],\n",
    "    'Gender': ['M', 'M', 'F', 'F', 'F'],\n",
    "    'Age': [25, 32, 18, 47, 36],\n",
    "    'City': ['New York', 'Paris', 'London', 'Paris', 'London'],\n",
    "    'Salary': [50000, 80000, 20000, 100000, 25000]\n",
    "})\n",
    "df"
   ]
  },
  {
   "cell_type": "code",
   "execution_count": 36,
   "id": "a3cda282-0108-4530-a176-cc2765e723ee",
   "metadata": {},
   "outputs": [
    {
     "data": {
      "text/plain": [
       "Gender  City    \n",
       "F       London       22500.0\n",
       "        Paris       100000.0\n",
       "M       New York     50000.0\n",
       "        Paris        80000.0\n",
       "Name: Salary, dtype: float64"
      ]
     },
     "execution_count": 36,
     "metadata": {},
     "output_type": "execute_result"
    }
   ],
   "source": [
    "grouped = df.groupby(['Gender', 'City']) # Group the DataFrame by Gender and City\n",
    "grouped['Salary'].mean() # Calculate the mean salary for each group"
   ]
  },
  {
   "cell_type": "code",
   "execution_count": 37,
   "id": "e53c8245-fa70-4d0e-99df-b17f5e58964b",
   "metadata": {},
   "outputs": [
    {
     "data": {
      "text/html": [
       "<div>\n",
       "<style scoped>\n",
       "    .dataframe tbody tr th:only-of-type {\n",
       "        vertical-align: middle;\n",
       "    }\n",
       "\n",
       "    .dataframe tbody tr th {\n",
       "        vertical-align: top;\n",
       "    }\n",
       "\n",
       "    .dataframe thead th {\n",
       "        text-align: right;\n",
       "    }\n",
       "</style>\n",
       "<table border=\"1\" class=\"dataframe\">\n",
       "  <thead>\n",
       "    <tr style=\"text-align: right;\">\n",
       "      <th></th>\n",
       "      <th>Gender</th>\n",
       "      <th>City</th>\n",
       "      <th>Salary</th>\n",
       "    </tr>\n",
       "  </thead>\n",
       "  <tbody>\n",
       "    <tr>\n",
       "      <th>0</th>\n",
       "      <td>F</td>\n",
       "      <td>London</td>\n",
       "      <td>22500.0</td>\n",
       "    </tr>\n",
       "    <tr>\n",
       "      <th>1</th>\n",
       "      <td>F</td>\n",
       "      <td>Paris</td>\n",
       "      <td>100000.0</td>\n",
       "    </tr>\n",
       "    <tr>\n",
       "      <th>2</th>\n",
       "      <td>M</td>\n",
       "      <td>New York</td>\n",
       "      <td>50000.0</td>\n",
       "    </tr>\n",
       "    <tr>\n",
       "      <th>3</th>\n",
       "      <td>M</td>\n",
       "      <td>Paris</td>\n",
       "      <td>80000.0</td>\n",
       "    </tr>\n",
       "  </tbody>\n",
       "</table>\n",
       "</div>"
      ],
      "text/plain": [
       "  Gender      City    Salary\n",
       "0      F    London   22500.0\n",
       "1      F     Paris  100000.0\n",
       "2      M  New York   50000.0\n",
       "3      M     Paris   80000.0"
      ]
     },
     "execution_count": 37,
     "metadata": {},
     "output_type": "execute_result"
    }
   ],
   "source": [
    "grouped['Salary'].mean().reset_index() # reseting the index of the grouped Dataframe to show it as a normal Dataframe"
   ]
  },
  {
   "cell_type": "markdown",
   "id": "1db3a31b-9114-4a7c-9a7a-6a8df174b2ec",
   "metadata": {
    "tags": []
   },
   "source": [
    "## 3. Matplotlib library"
   ]
  },
  {
   "cell_type": "markdown",
   "id": "4d8f204a-d763-4415-9e72-0cd722274ced",
   "metadata": {},
   "source": [
    "### - Introduction to Matplotlib"
   ]
  },
  {
   "cell_type": "markdown",
   "id": "8d2e6b1f-99cd-4727-833d-a0b75ad60556",
   "metadata": {},
   "source": [
    "***Matplotlib*** is a plotting library for the Python programming language and its numerical mathematics extension Numpy."
   ]
  },
  {
   "cell_type": "markdown",
   "id": "7ea6773b-49d6-40d7-9f9c-7f03000ddb99",
   "metadata": {},
   "source": [
    "Documentation can be found [***HERE***](https://matplotlib.org/stable/tutorials/introductory/index.html#tutorials-introductory)"
   ]
  },
  {
   "cell_type": "markdown",
   "id": "1b839aa0-e5b7-43db-93ea-8f8f8c501a63",
   "metadata": {},
   "source": [
    "To use Matplotlib use the following `import`:\n",
    "```python\n",
    "import matplotlib.pyplot as plt\n",
    "```"
   ]
  },
  {
   "cell_type": "code",
   "execution_count": 38,
   "id": "dff7be59-6463-418b-b74a-9e211d3e9205",
   "metadata": {},
   "outputs": [],
   "source": [
    "import matplotlib.pyplot as plt"
   ]
  },
  {
   "cell_type": "markdown",
   "id": "b6795297-0f5e-4009-a7d3-8f69d4930ab0",
   "metadata": {},
   "source": [
    "### - Basic plots"
   ]
  },
  {
   "cell_type": "code",
   "execution_count": 39,
   "id": "a3d27705-93fd-4e30-9dfd-7c24633e6a12",
   "metadata": {},
   "outputs": [
    {
     "data": {
      "image/png": "[encoded data removed]",
      "text/plain": [
       "<Figure size 640x480 with 1 Axes>"
      ]
     },
     "metadata": {},
     "output_type": "display_data"
    }
   ],
   "source": [
    "x = [1,2,3]\n",
    "y = [5,7,4]\n",
    "\n",
    "plt.plot(x,y) # Creating a line plot using the 2 lists x and y\n",
    "plt.show()"
   ]
  },
  {
   "cell_type": "code",
   "execution_count": 40,
   "id": "70aa4f39-30a9-4df8-9879-01fb9b4c6c32",
   "metadata": {},
   "outputs": [
    {
     "data": {
      "image/png": "[encoded data removed]",
      "text/plain": [
       "<Figure size 640x480 with 1 Axes>"
      ]
     },
     "metadata": {},
     "output_type": "display_data"
    }
   ],
   "source": [
    "# Sine Wave Plot\n",
    "x = np.linspace(0,6)\n",
    "y = np.sin(x)\n",
    "plt.plot(x,y)\n",
    "plt.xlabel('x')\n",
    "plt.ylabel('y')\n",
    "plt.title('Sine Wave')\n",
    "plt.show()"
   ]
  },
  {
   "cell_type": "markdown",
   "id": "6cc02b53-b968-4461-aac3-4bc1f7d3a436",
   "metadata": {},
   "source": [
    "### - Advanced plots"
   ]
  },
  {
   "cell_type": "code",
   "execution_count": 41,
   "id": "34d82947-1188-4fff-8c8a-074bda014860",
   "metadata": {},
   "outputs": [
    {
     "data": {
      "image/png": "[encoded data removed]",
      "text/plain": [
       "<Figure size 640x480 with 1 Axes>"
      ]
     },
     "metadata": {},
     "output_type": "display_data"
    }
   ],
   "source": [
    "x = np.random.rand(100)\n",
    "y = np.random.rand(100)\n",
    "colors = np.random.rand(100)\n",
    "sizes = (30 * np.random.rand(100)) ** 2 \n",
    "plt.scatter(x,y,c=colors,s=sizes) # Creates a scatter plot of the values x and y using colors and sizes for the different points\n",
    "plt.xlabel('x')\n",
    "plt.ylabel('y')\n",
    "plt.title('Scatter Plot')\n",
    "plt.show()"
   ]
  }
 ],
 "metadata": {
  "kernelspec": {
   "display_name": "Python 3 (ipykernel)",
   "language": "python",
   "name": "python3"
  },
  "language_info": {
   "codemirror_mode": {
    "name": "ipython",
    "version": 3
   },
   "file_extension": ".py",
   "mimetype": "text/x-python",
   "name": "python",
   "nbconvert_exporter": "python",
   "pygments_lexer": "ipython3",
   "version": "3.10.9"
  }
 },
 "nbformat": 4,
 "nbformat_minor": 5
}
